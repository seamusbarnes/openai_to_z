{
 "cells": [
  {
   "cell_type": "code",
   "execution_count": 6,
   "id": "5713fec2",
   "metadata": {},
   "outputs": [],
   "source": [
    "import importlib.util\n",
    "import subprocess\n",
    "import sys"
   ]
  },
  {
   "cell_type": "code",
   "execution_count": 11,
   "id": "3cf6a8bf",
   "metadata": {},
   "outputs": [
    {
     "name": "stdout",
     "output_type": "stream",
     "text": [
      "pystac_client already installed.\n",
      "stackstac already installed.\n",
      "rasterio already installed.\n",
      "geopandas already installed.\n",
      "pystac already installed.\n",
      "shapely already installed.\n",
      "PIL already installed.\n"
     ]
    }
   ],
   "source": [
    "def ensure_installed(packages, verbose=True):\n",
    "    for package in packages:\n",
    "        spec = importlib.util.find_spec(package[\"import_name\"])\n",
    "        if spec is None:\n",
    "            if verbose:\n",
    "                print(f\"Installing {package['import_name']} ({package['pip_name']})...\")\n",
    "                subprocess.run([sys.executable, \"-m\", \"pip\", \"install\", package[\"pip_name\"]])\n",
    "            else:\n",
    "                subprocess.run([sys.executable, \"-m\", \"pip\", \"install\", package[\"pip_name\"]],\n",
    "                               stdout=subprocess.DEVNULL, stderr=subprocess.DEVNULL)\n",
    "        else:\n",
    "            if verbose:\n",
    "                print(f\"{package['import_name']} already installed.\")\n",
    "            \n",
    "packages = [\n",
    "    {\"import_name\": \"pystac_client\", \"pip_name\": \"pystac-client\"},\n",
    "    {\"import_name\": \"stackstac\", \"pip_name\": \"stackstac\"},\n",
    "    {\"import_name\": \"rasterio\", \"pip_name\": \"rasterio\"},\n",
    "    {\"import_name\": \"geopandas\", \"pip_name\": \"geopandas\"},\n",
    "    {\"import_name\": \"pystac\", \"pip_name\": \"pystac\"},\n",
    "    {\"import_name\": \"shapely\", \"pip_name\": \"shapely\"},\n",
    "    {\"import_name\": \"PIL\", \"pip_name\": \"Pillow\"},\n",
    "]\n",
    "\n",
    "ensure_installed(packages, verbose=True)"
   ]
  }
 ],
 "metadata": {
  "kernelspec": {
   "display_name": "Python 3 (ipykernel)",
   "language": "python",
   "name": "python3"
  },
  "language_info": {
   "codemirror_mode": {
    "name": "ipython",
    "version": 3
   },
   "file_extension": ".py",
   "mimetype": "text/x-python",
   "name": "python",
   "nbconvert_exporter": "python",
   "pygments_lexer": "ipython3",
   "version": "3.12.8"
  }
 },
 "nbformat": 4,
 "nbformat_minor": 5
}
