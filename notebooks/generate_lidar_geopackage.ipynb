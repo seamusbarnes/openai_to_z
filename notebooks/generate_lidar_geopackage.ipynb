{
 "cells": [
  {
   "cell_type": "code",
   "execution_count": 4,
   "id": "92b94ffc",
   "metadata": {},
   "outputs": [],
   "source": [
    "import os\n",
    "\n",
    "import pandas as pd\n",
    "import geopandas as gpd\n",
    "from shapely.geometry import box\n",
    "\n",
    "PATH_TO_INVENTORY = \"/Users/jamesbyers/code/github/Kaggle/openai_to_z/data/metadata/cms_brazil_lidar_tile_inventory.csv\"\n",
    "\n",
    "df = pd.read_csv(PATH_TO_INVENTORY)"
   ]
  },
  {
   "cell_type": "code",
   "execution_count": 7,
   "id": "dffe169a",
   "metadata": {},
   "outputs": [
    {
     "data": {
      "text/plain": [
       "Index(['filename', 'max_lat', 'min_lat', 'max_lon', 'min_lon', 'file_type',\n",
       "       'file_size_mb', 'file_format', 'version', 'created', 'utmzone', 'srs',\n",
       "       'geometry'],\n",
       "      dtype='object')"
      ]
     },
     "execution_count": 7,
     "metadata": {},
     "output_type": "execute_result"
    }
   ],
   "source": [
    "df.columns"
   ]
  },
  {
   "cell_type": "code",
   "execution_count": 13,
   "id": "e6be64a1",
   "metadata": {},
   "outputs": [
    {
     "name": "stdout",
     "output_type": "stream",
     "text": [
      "GeoPackage file 'tiles.gpkg' created.\n"
     ]
    }
   ],
   "source": [
    "# Create the geometry column (bounding box polygons)\n",
    "df['geometry'] = df.apply(\n",
    "    lambda row: box(row['min_lon'], row['min_lat'], row['max_lon'], row['max_lat']),\n",
    "    axis=1\n",
    ")\n",
    "\n",
    "# Make a GeoDataFrame, set CRS to WGS84\n",
    "gdf = gpd.GeoDataFrame(df, geometry='geometry', crs='EPSG:4326')\n",
    "\n",
    "# Write to GPKG\n",
    "gdf.to_file('tiles.gpkg', layer='tiles', driver='GPKG')\n",
    "\n",
    "print(\"GeoPackage file 'tiles.gpkg' created.\")"
   ]
  },
  {
   "cell_type": "code",
   "execution_count": 11,
   "id": "9e7323ab",
   "metadata": {},
   "outputs": [],
   "source": [
    "import pandas as pd\n",
    "import geopandas as gpd\n",
    "from shapely.geometry import box\n",
    "\n",
    "records = []\n",
    "for i, row in df.iterrows():\n",
    "    proj4 = row['srs']\n",
    "    if pd.isnull(proj4) or not str(proj4).strip():\n",
    "        print(f\"Row {i}: SRS missing!\")\n",
    "        continue\n",
    "    try:\n",
    "        temp_gdf = gpd.GeoDataFrame(\n",
    "            [row],\n",
    "            geometry=[box(row['min_lon'], row['min_lat'], row['max_lon'], row['max_lat'])],\n",
    "            crs=proj4   # Use the full proj string\n",
    "        )\n",
    "        temp_gdf = temp_gdf.to_crs(\"EPSG:4326\")  # convert to common CRS, e.g. WGS84\n",
    "        records.append(temp_gdf)\n",
    "    except Exception as e:\n",
    "        print(f\"Row {i}: Could not interpret SRS ({proj4}) - {e}\")"
   ]
  },
  {
   "cell_type": "code",
   "execution_count": 12,
   "id": "3f446024",
   "metadata": {},
   "outputs": [
    {
     "name": "stdout",
     "output_type": "stream",
     "text": [
      "None\n"
     ]
    }
   ],
   "source": [
    "from pyproj import CRS\n",
    "\n",
    "crs_obj = CRS(row['srs'])\n",
    "print(crs_obj.to_epsg())  # Will return the EPSG code if possible, or None"
   ]
  },
  {
   "cell_type": "code",
   "execution_count": null,
   "id": "092955aa",
   "metadata": {},
   "outputs": [],
   "source": []
  }
 ],
 "metadata": {
  "kernelspec": {
   "display_name": "Python (Conda, openai_to_z)",
   "language": "python",
   "name": "openai_to_z"
  },
  "language_info": {
   "codemirror_mode": {
    "name": "ipython",
    "version": 3
   },
   "file_extension": ".py",
   "mimetype": "text/x-python",
   "name": "python",
   "nbconvert_exporter": "python",
   "pygments_lexer": "ipython3",
   "version": "3.10.18"
  }
 },
 "nbformat": 4,
 "nbformat_minor": 5
}
