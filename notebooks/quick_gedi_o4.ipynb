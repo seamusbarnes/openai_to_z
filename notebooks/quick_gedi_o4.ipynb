{
 "cells": [
  {
   "cell_type": "code",
   "execution_count": 61,
   "id": "45560ccf",
   "metadata": {},
   "outputs": [
    {
     "data": {
      "text/html": [
       "\n",
       "            <style>\n",
       "                .geemap-dark {\n",
       "                    --jp-widgets-color: white;\n",
       "                    --jp-widgets-label-color: white;\n",
       "                    --jp-ui-font-color1: white;\n",
       "                    --jp-layout-color2: #454545;\n",
       "                    background-color: #383838;\n",
       "                }\n",
       "\n",
       "                .geemap-dark .jupyter-button {\n",
       "                    --jp-layout-color3: #383838;\n",
       "                }\n",
       "\n",
       "                .geemap-colab {\n",
       "                    background-color: var(--colab-primary-surface-color, white);\n",
       "                }\n",
       "\n",
       "                .geemap-colab .jupyter-button {\n",
       "                    --jp-layout-color3: var(--colab-primary-surface-color, white);\n",
       "                }\n",
       "            </style>\n",
       "            "
      ],
      "text/plain": [
       "<IPython.core.display.HTML object>"
      ]
     },
     "metadata": {},
     "output_type": "display_data"
    }
   ],
   "source": [
    "import os\n",
    "import subprocess\n",
    "import sys\n",
    "import importlib.util\n",
    "import earthaccess\n",
    "from pathlib import Path\n",
    "import h5py"
   ]
  },
  {
   "cell_type": "code",
   "execution_count": null,
   "id": "8ce22c60",
   "metadata": {},
   "outputs": [],
   "source": []
  },
  {
   "cell_type": "code",
   "execution_count": 39,
   "id": "acdc3d0d",
   "metadata": {},
   "outputs": [],
   "source": [
    "packages = [\n",
    "    {\"import_name\": \"openai\", \"pip_name\": \"openai\"},\n",
    "    {\"import_name\": \"numpy\", \"pip_name\": \"numpy\"},\n",
    "    {\"import_name\": \"h5py\", \"pip_name\": \"h5py\"},\n",
    "    {\"import_name\": \"earthaccess\", \"pip_name\": \"earthaccess\"},\n",
    "    {\"import_name\": \"yaml\", \"pip_name\": \"pyyaml\"}\n",
    "]\n",
    "\n",
    "for package in packages:\n",
    "    spec = importlib.util.find_spec(package[\"import_name\"])\n",
    "    if spec is None:\n",
    "        print(f\"Installing {package['import_name']}\")\n",
    "        subprocess.run([sys.executable, \"-m\", \"pip\", \"install\", package[\"pip_name\"], \"-q\"])"
   ]
  },
  {
   "cell_type": "code",
   "execution_count": 62,
   "id": "937cc0fe",
   "metadata": {},
   "outputs": [
    {
     "data": {
      "text/html": [
       "\n",
       "            <style>\n",
       "                .geemap-dark {\n",
       "                    --jp-widgets-color: white;\n",
       "                    --jp-widgets-label-color: white;\n",
       "                    --jp-ui-font-color1: white;\n",
       "                    --jp-layout-color2: #454545;\n",
       "                    background-color: #383838;\n",
       "                }\n",
       "\n",
       "                .geemap-dark .jupyter-button {\n",
       "                    --jp-layout-color3: #383838;\n",
       "                }\n",
       "\n",
       "                .geemap-colab {\n",
       "                    background-color: var(--colab-primary-surface-color, white);\n",
       "                }\n",
       "\n",
       "                .geemap-colab .jupyter-button {\n",
       "                    --jp-layout-color3: var(--colab-primary-surface-color, white);\n",
       "                }\n",
       "            </style>\n",
       "            "
      ],
      "text/plain": [
       "<IPython.core.display.HTML object>"
      ]
     },
     "metadata": {},
     "output_type": "display_data"
    }
   ],
   "source": [
    "EARTHDATA_USER = os.getenv(\"EARTHDATA_USERNAME\")\n",
    "EARTHDATA_PASS = os.getenv(\"EARTHDATA_PASSWORD\")\n",
    "OPENAI_API_KEY = os.getenv(\"OPENAI_API_KEY_openai_to_z\")\n",
    "\n",
    "# very small AOI near the headwaters of the Xingu River (decimal degrees)\n",
    "AOI_BBOX = (-53.75, -11.80, -53.55, -11.60)          # (min lon, min lat, max lon, max lat)\n",
    "TEMPORAL = (\"2024-11-01\", \"2024-11-30\")              # YYYY-MM-DD\n",
    "\n",
    "OUT_DIR = Path(\"outputs\")\n",
    "RAW_DIR = Path(\"data/raw\")\n",
    "OUT_DIR.mkdir(parents=True, exist_ok=True)\n",
    "RAW_DIR.mkdir(parents=True, exist_ok=True)\n",
    "\n",
    "MODEL_NAME = \"o4-mini\"\n",
    "np.random.seed(42)"
   ]
  },
  {
   "cell_type": "code",
   "execution_count": 63,
   "id": "3241dddb",
   "metadata": {},
   "outputs": [
    {
     "data": {
      "text/html": [
       "\n",
       "            <style>\n",
       "                .geemap-dark {\n",
       "                    --jp-widgets-color: white;\n",
       "                    --jp-widgets-label-color: white;\n",
       "                    --jp-ui-font-color1: white;\n",
       "                    --jp-layout-color2: #454545;\n",
       "                    background-color: #383838;\n",
       "                }\n",
       "\n",
       "                .geemap-dark .jupyter-button {\n",
       "                    --jp-layout-color3: #383838;\n",
       "                }\n",
       "\n",
       "                .geemap-colab {\n",
       "                    background-color: var(--colab-primary-surface-color, white);\n",
       "                }\n",
       "\n",
       "                .geemap-colab .jupyter-button {\n",
       "                    --jp-layout-color3: var(--colab-primary-surface-color, white);\n",
       "                }\n",
       "            </style>\n",
       "            "
      ],
      "text/plain": [
       "<IPython.core.display.HTML object>"
      ]
     },
     "metadata": {},
     "output_type": "display_data"
    },
    {
     "name": "stdout",
     "output_type": "stream",
     "text": [
      "🔑  Logging in to Earthdata…\n"
     ]
    },
    {
     "data": {
      "text/plain": [
       "<earthaccess.auth.Auth at 0x119e9e660>"
      ]
     },
     "execution_count": 63,
     "metadata": {},
     "output_type": "execute_result"
    }
   ],
   "source": [
    "print(\"🔑  Logging in to Earthdata…\")\n",
    "earthaccess.login(EARTHDATA_USER, EARTHDATA_PASS)"
   ]
  },
  {
   "cell_type": "code",
   "execution_count": 64,
   "id": "2d0d50c4",
   "metadata": {},
   "outputs": [
    {
     "data": {
      "text/html": [
       "\n",
       "            <style>\n",
       "                .geemap-dark {\n",
       "                    --jp-widgets-color: white;\n",
       "                    --jp-widgets-label-color: white;\n",
       "                    --jp-ui-font-color1: white;\n",
       "                    --jp-layout-color2: #454545;\n",
       "                    background-color: #383838;\n",
       "                }\n",
       "\n",
       "                .geemap-dark .jupyter-button {\n",
       "                    --jp-layout-color3: #383838;\n",
       "                }\n",
       "\n",
       "                .geemap-colab {\n",
       "                    background-color: var(--colab-primary-surface-color, white);\n",
       "                }\n",
       "\n",
       "                .geemap-colab .jupyter-button {\n",
       "                    --jp-layout-color3: var(--colab-primary-surface-color, white);\n",
       "                }\n",
       "            </style>\n",
       "            "
      ],
      "text/plain": [
       "<IPython.core.display.HTML object>"
      ]
     },
     "metadata": {},
     "output_type": "display_data"
    },
    {
     "ename": "RuntimeError",
     "evalue": "{\"errors\":[\"An Internal Error has occurred.\"]}",
     "output_type": "error",
     "traceback": [
      "\u001b[31m---------------------------------------------------------------------------\u001b[39m",
      "\u001b[31mHTTPError\u001b[39m                                 Traceback (most recent call last)",
      "\u001b[36mFile \u001b[39m\u001b[32m~/code/github/Kaggle/openai_to_z/venv/lib/python3.12/site-packages/earthaccess/utils/_search.py:42\u001b[39m, in \u001b[36mget_results\u001b[39m\u001b[34m(session, query, limit)\u001b[39m\n\u001b[32m     41\u001b[39m \u001b[38;5;28;01mtry\u001b[39;00m:\n\u001b[32m---> \u001b[39m\u001b[32m42\u001b[39m     \u001b[43mresponse\u001b[49m\u001b[43m.\u001b[49m\u001b[43mraise_for_status\u001b[49m\u001b[43m(\u001b[49m\u001b[43m)\u001b[49m\n\u001b[32m     43\u001b[39m \u001b[38;5;28;01mexcept\u001b[39;00m requests.exceptions.HTTPError \u001b[38;5;28;01mas\u001b[39;00m ex:\n",
      "\u001b[36mFile \u001b[39m\u001b[32m~/code/github/Kaggle/openai_to_z/venv/lib/python3.12/site-packages/requests/models.py:1024\u001b[39m, in \u001b[36mResponse.raise_for_status\u001b[39m\u001b[34m(self)\u001b[39m\n\u001b[32m   1023\u001b[39m \u001b[38;5;28;01mif\u001b[39;00m http_error_msg:\n\u001b[32m-> \u001b[39m\u001b[32m1024\u001b[39m     \u001b[38;5;28;01mraise\u001b[39;00m HTTPError(http_error_msg, response=\u001b[38;5;28mself\u001b[39m)\n",
      "\u001b[31mHTTPError\u001b[39m: 500 Server Error: Server Error for url: https://cmr.earthdata.nasa.gov/search/granules.umm_json?short_name=GEDI02_A&bounding_box=-55.0,-13.0,-52.0,-10.0&temporal%5B%5D=2024-10-01T00:00:00Z,2025-01-31T23:59:59Z&page_size=24",
      "\nThe above exception was the direct cause of the following exception:\n",
      "\u001b[31mRuntimeError\u001b[39m                              Traceback (most recent call last)",
      "\u001b[36mCell\u001b[39m\u001b[36m \u001b[39m\u001b[32mIn[64]\u001b[39m\u001b[32m, line 4\u001b[39m\n\u001b[32m      2\u001b[39m earthaccess.login()                               \u001b[38;5;66;03m# should prompt for creds once\u001b[39;00m\n\u001b[32m      3\u001b[39m bbox_big = (-\u001b[32m55\u001b[39m, -\u001b[32m13\u001b[39m, -\u001b[32m52\u001b[39m, -\u001b[32m10\u001b[39m)                   \u001b[38;5;66;03m# 3°×3° around headwaters\u001b[39;00m\n\u001b[32m----> \u001b[39m\u001b[32m4\u001b[39m results = \u001b[43mearthaccess\u001b[49m\u001b[43m.\u001b[49m\u001b[43msearch_data\u001b[49m\u001b[43m(\u001b[49m\n\u001b[32m      5\u001b[39m \u001b[43m    \u001b[49m\u001b[43mshort_name\u001b[49m\u001b[43m=\u001b[49m\u001b[33;43m\"\u001b[39;49m\u001b[33;43mGEDI02_A\u001b[39;49m\u001b[33;43m\"\u001b[39;49m\u001b[43m,\u001b[49m\n\u001b[32m      6\u001b[39m \u001b[43m    \u001b[49m\u001b[43mbounding_box\u001b[49m\u001b[43m=\u001b[49m\u001b[43mbbox_big\u001b[49m\u001b[43m,\u001b[49m\n\u001b[32m      7\u001b[39m \u001b[43m    \u001b[49m\u001b[43mtemporal\u001b[49m\u001b[43m=\u001b[49m\u001b[43m(\u001b[49m\u001b[33;43m\"\u001b[39;49m\u001b[33;43m2024-10-01\u001b[39;49m\u001b[33;43m\"\u001b[39;49m\u001b[43m,\u001b[49m\u001b[43m \u001b[49m\u001b[33;43m\"\u001b[39;49m\u001b[33;43m2025-01-31\u001b[39;49m\u001b[33;43m\"\u001b[39;49m\u001b[43m)\u001b[49m\u001b[43m,\u001b[49m\u001b[43m        \u001b[49m\u001b[38;5;66;43;03m# four-month window\u001b[39;49;00m\n\u001b[32m      8\u001b[39m \u001b[43m)\u001b[49m\n\u001b[32m      9\u001b[39m \u001b[38;5;28mprint\u001b[39m(\u001b[38;5;28mlen\u001b[39m(results), \u001b[33m\"\u001b[39m\u001b[33mgranules found\u001b[39m\u001b[33m\"\u001b[39m)\n\u001b[32m     10\u001b[39m \u001b[38;5;66;03m# for g in results[:3]:\u001b[39;00m\n\u001b[32m     11\u001b[39m \u001b[38;5;66;03m#     print(g.title)\u001b[39;00m\n",
      "\u001b[36mFile \u001b[39m\u001b[32m~/code/github/Kaggle/openai_to_z/venv/lib/python3.12/site-packages/earthaccess/api.py:142\u001b[39m, in \u001b[36msearch_data\u001b[39m\u001b[34m(count, **kwargs)\u001b[39m\n\u001b[32m    140\u001b[39m \u001b[38;5;28;01mif\u001b[39;00m count > \u001b[32m0\u001b[39m:\n\u001b[32m    141\u001b[39m     \u001b[38;5;28;01mreturn\u001b[39;00m query.get(count)\n\u001b[32m--> \u001b[39m\u001b[32m142\u001b[39m \u001b[38;5;28;01mreturn\u001b[39;00m \u001b[43mquery\u001b[49m\u001b[43m.\u001b[49m\u001b[43mget_all\u001b[49m\u001b[43m(\u001b[49m\u001b[43m)\u001b[49m\n",
      "\u001b[36mFile \u001b[39m\u001b[32m~/code/github/Kaggle/openai_to_z/venv/lib/python3.12/site-packages/cmr/queries.py:127\u001b[39m, in \u001b[36mQuery.get_all\u001b[39m\u001b[34m(self)\u001b[39m\n\u001b[32m    118\u001b[39m \u001b[38;5;28;01mdef\u001b[39;00m\u001b[38;5;250m \u001b[39m\u001b[34mget_all\u001b[39m(\u001b[38;5;28mself\u001b[39m) -> Sequence[Any]:\n\u001b[32m    119\u001b[39m \u001b[38;5;250m    \u001b[39m\u001b[33;03m\"\"\"\u001b[39;00m\n\u001b[32m    120\u001b[39m \u001b[33;03m    Returns all of the results for the query. This will call hits() first to determine how many\u001b[39;00m\n\u001b[32m    121\u001b[39m \u001b[33;03m    results their are, and then calls get() with that number. This method could take quite\u001b[39;00m\n\u001b[32m   (...)\u001b[39m\u001b[32m    124\u001b[39m \u001b[33;03m    :returns: query results as a list\u001b[39;00m\n\u001b[32m    125\u001b[39m \u001b[33;03m    \"\"\"\u001b[39;00m\n\u001b[32m--> \u001b[39m\u001b[32m127\u001b[39m     \u001b[38;5;28;01mreturn\u001b[39;00m \u001b[38;5;28;43mself\u001b[39;49m\u001b[43m.\u001b[49m\u001b[43mget\u001b[49m\u001b[43m(\u001b[49m\u001b[38;5;28;43mself\u001b[39;49m\u001b[43m.\u001b[49m\u001b[43mhits\u001b[49m\u001b[43m(\u001b[49m\u001b[43m)\u001b[49m\u001b[43m)\u001b[49m\n",
      "\u001b[36mFile \u001b[39m\u001b[32m~/code/github/Kaggle/openai_to_z/venv/lib/python3.12/site-packages/earthaccess/search.py:492\u001b[39m, in \u001b[36mDataGranules.get\u001b[39m\u001b[34m(self, limit)\u001b[39m\n\u001b[32m    472\u001b[39m \u001b[38;5;129m@override\u001b[39m\n\u001b[32m    473\u001b[39m \u001b[38;5;28;01mdef\u001b[39;00m\u001b[38;5;250m \u001b[39m\u001b[34mget\u001b[39m(\u001b[38;5;28mself\u001b[39m, limit: \u001b[38;5;28mint\u001b[39m = \u001b[32m2000\u001b[39m) -> List[DataGranule]:\n\u001b[32m    474\u001b[39m \u001b[38;5;250m    \u001b[39m\u001b[33;03m\"\"\"Get all the collections (datasets) that match with our current parameters\u001b[39;00m\n\u001b[32m    475\u001b[39m \u001b[33;03m    up to some limit, even if spanning multiple pages.\u001b[39;00m\n\u001b[32m    476\u001b[39m \n\u001b[32m   (...)\u001b[39m\u001b[32m    490\u001b[39m \u001b[33;03m        RuntimeError: The CMR query failed.\u001b[39;00m\n\u001b[32m    491\u001b[39m \u001b[33;03m    \"\"\"\u001b[39;00m\n\u001b[32m--> \u001b[39m\u001b[32m492\u001b[39m     response = \u001b[43mget_results\u001b[49m\u001b[43m(\u001b[49m\u001b[38;5;28;43mself\u001b[39;49m\u001b[43m.\u001b[49m\u001b[43msession\u001b[49m\u001b[43m,\u001b[49m\u001b[43m \u001b[49m\u001b[38;5;28;43mself\u001b[39;49m\u001b[43m,\u001b[49m\u001b[43m \u001b[49m\u001b[43mlimit\u001b[49m\u001b[43m)\u001b[49m\n\u001b[32m    493\u001b[39m     cloud = \u001b[38;5;28mlen\u001b[39m(response) > \u001b[32m0\u001b[39m \u001b[38;5;129;01mand\u001b[39;00m \u001b[38;5;28mself\u001b[39m._is_cloud_hosted(response[\u001b[32m0\u001b[39m])\n\u001b[32m    495\u001b[39m     \u001b[38;5;28;01mreturn\u001b[39;00m [DataGranule(granule, cloud_hosted=cloud) \u001b[38;5;28;01mfor\u001b[39;00m granule \u001b[38;5;129;01min\u001b[39;00m response]\n",
      "\u001b[36mFile \u001b[39m\u001b[32m~/code/github/Kaggle/openai_to_z/venv/lib/python3.12/site-packages/earthaccess/utils/_search.py:44\u001b[39m, in \u001b[36mget_results\u001b[39m\u001b[34m(session, query, limit)\u001b[39m\n\u001b[32m     42\u001b[39m     response.raise_for_status()\n\u001b[32m     43\u001b[39m \u001b[38;5;28;01mexcept\u001b[39;00m requests.exceptions.HTTPError \u001b[38;5;28;01mas\u001b[39;00m ex:\n\u001b[32m---> \u001b[39m\u001b[32m44\u001b[39m     \u001b[38;5;28;01mraise\u001b[39;00m \u001b[38;5;167;01mRuntimeError\u001b[39;00m(ex.response.text) \u001b[38;5;28;01mfrom\u001b[39;00m\u001b[38;5;250m \u001b[39m\u001b[34;01mex\u001b[39;00m\n\u001b[32m     46\u001b[39m latest = response.json()[\u001b[33m\"\u001b[39m\u001b[33mitems\u001b[39m\u001b[33m\"\u001b[39m]\n\u001b[32m     48\u001b[39m results.extend(latest)\n",
      "\u001b[31mRuntimeError\u001b[39m: {\"errors\":[\"An Internal Error has occurred.\"]}"
     ]
    }
   ],
   "source": [
    "import earthaccess\n",
    "earthaccess.login()                               # should prompt for creds once\n",
    "bbox_big = (-55, -13, -52, -10)                   # 3°×3° around headwaters\n",
    "results = earthaccess.search_data(\n",
    "    short_name=\"GEDI02_A\",\n",
    "    bounding_box=bbox_big,\n",
    "    temporal=(\"2024-10-01\", \"2025-01-31\"),        # four-month window\n",
    ")\n",
    "print(len(results), \"granules found\")\n",
    "# for g in results[:3]:\n",
    "#     print(g.title)\n"
   ]
  },
  {
   "cell_type": "code",
   "execution_count": 67,
   "id": "93516ef1",
   "metadata": {},
   "outputs": [],
   "source": [
    "granule = results[0]"
   ]
  },
  {
   "cell_type": "code",
   "execution_count": 71,
   "id": "ba27cd34",
   "metadata": {},
   "outputs": [],
   "source": [
    "granule_url = granule.data_links()[0]\n",
    "granule_id = Path(granule_url).name"
   ]
  },
  {
   "cell_type": "code",
   "execution_count": 73,
   "id": "58518de5",
   "metadata": {},
   "outputs": [
    {
     "name": "stdout",
     "output_type": "stream",
     "text": [
      "https://data.lpdaac.earthdatacloud.nasa.gov/lp-prod-protected/GEDI02_A.002/GEDI02_A_2024277105416_O32903_01_T07097_02_004_02_V002/GEDI02_A_2024277105416_O32903_01_T07097_02_004_02_V002.h5\n"
     ]
    }
   ],
   "source": [
    "print(granule_url)"
   ]
  },
  {
   "cell_type": "code",
   "execution_count": 83,
   "id": "ad6de71a",
   "metadata": {},
   "outputs": [
    {
     "data": {
      "application/vnd.jupyter.widget-view+json": {
       "model_id": "a860939cad1546fea75c08a842da86ce",
       "version_major": 2,
       "version_minor": 0
      },
      "text/plain": [
       "QUEUEING TASKS | :   0%|          | 0/1 [00:00<?, ?it/s]"
      ]
     },
     "metadata": {},
     "output_type": "display_data"
    },
    {
     "data": {
      "application/vnd.jupyter.widget-view+json": {
       "model_id": "340c600c676d4947963a5da34746956e",
       "version_major": 2,
       "version_minor": 0
      },
      "text/plain": [
       "PROCESSING TASKS | :   0%|          | 0/1 [00:00<?, ?it/s]"
      ]
     },
     "metadata": {},
     "output_type": "display_data"
    },
    {
     "data": {
      "application/vnd.jupyter.widget-view+json": {
       "model_id": "8992ac85757e45ce89a5bfb9790855ec",
       "version_major": 2,
       "version_minor": 0
      },
      "text/plain": [
       "COLLECTING RESULTS | :   0%|          | 0/1 [00:00<?, ?it/s]"
      ]
     },
     "metadata": {},
     "output_type": "display_data"
    },
    {
     "name": "stdout",
     "output_type": "stream",
     "text": [
      "File saved to data/raw/GEDI02_A_2024277105416_O32903_01_T07097_02_004_02_V002.h5\n"
     ]
    }
   ],
   "source": [
    "# after you’ve called earthaccess.login()\n",
    "granule = results[0]\n",
    "\n",
    "# this handles token + redirects automatically\n",
    "local_path = earthaccess.download(\n",
    "    granule,\n",
    "    local_path=RAW_DIR,\n",
    ")[0]\n",
    "\n",
    "print(f\"File saved to {local_path}\")\n"
   ]
  },
  {
   "cell_type": "code",
   "execution_count": 88,
   "id": "ca9f3d72",
   "metadata": {},
   "outputs": [
    {
     "name": "stdout",
     "output_type": "stream",
     "text": [
      "Shots in beam           : 118,917\n",
      "Sampled shots           : 10811\n",
      "RH100 min / max (m)     : 0.0 / 35.0\n",
      "RH100 ≤ 10 m (clearings): 10145 / 10811\n"
     ]
    }
   ],
   "source": [
    "RANDOM_SEED = 42\n",
    "np.random.seed(RANDOM_SEED)\n",
    "\n",
    "with h5py.File(local_path, \"r\") as h5:\n",
    "    beams = [k for k in h5.keys() if k.startswith(\"BEAM\")]\n",
    "    beam = beams[0]                             # good enough for a peek\n",
    "\n",
    "    lat_ds = h5[f\"{beam}/lat_lowestmode\"]\n",
    "    rh_ds  = h5[f\"{beam}/rh\"]                   # (n_shots, 101) array\n",
    "\n",
    "    n_shots = lat_ds.shape[0]\n",
    "    step = max(n_shots // 10_000, 1)            # keep ≤10 k points\n",
    "    idx = np.arange(0, n_shots, step)\n",
    "    rh100 = rh_ds[idx, 99]                      # canopy-top height (m)\n",
    "\n",
    "    print(f\"Shots in beam           : {n_shots:,}\")\n",
    "    print(f\"Sampled shots           : {idx.size}\")\n",
    "    print(f\"RH100 min / max (m)     : {rh100.min():.1f} / {rh100.max():.1f}\")\n",
    "    print(f\"RH100 ≤ 10 m (clearings): {(rh100 <= 10).sum()} / {idx.size}\")\n"
   ]
  },
  {
   "cell_type": "code",
   "execution_count": 93,
   "id": "c1cec59d",
   "metadata": {},
   "outputs": [
    {
     "name": "stdout",
     "output_type": "stream",
     "text": [
      "Histogram saved to data/raw/GEDI02_A_2024277105416_O32903_01_T07097_02_004_02_V002_hist.png\n"
     ]
    }
   ],
   "source": [
    "# ---------------------------------------------------------------------\n",
    "# 4. quick-look histogram (non-blocking)\n",
    "# ---------------------------------------------------------------------\n",
    "plt.figure(figsize=(6, 4))\n",
    "plt.hist(rh100, bins=60)\n",
    "plt.title(f\"GEDI RH100 distribution – {granule_id}\")\n",
    "plt.xlabel(\"Canopy-top height (m)\")\n",
    "plt.ylabel(\"Shot count (sample 1 %)\")\n",
    "plt.tight_layout()\n",
    "\n",
    "png_out = RAW_DIR / (granule_id.replace(\".h5\", \"_hist.png\"))\n",
    "plt.savefig(png_out, dpi=150)\n",
    "plt.close()\n",
    "print(f\"Histogram saved to {png_out}\")"
   ]
  },
  {
   "cell_type": "code",
   "execution_count": 92,
   "id": "a67500a9",
   "metadata": {},
   "outputs": [],
   "source": [
    "import matplotlib.pyplot as plt"
   ]
  },
  {
   "cell_type": "code",
   "execution_count": null,
   "id": "0501ce14",
   "metadata": {},
   "outputs": [],
   "source": []
  },
  {
   "cell_type": "code",
   "execution_count": null,
   "id": "8504505d",
   "metadata": {},
   "outputs": [],
   "source": []
  },
  {
   "cell_type": "code",
   "execution_count": null,
   "id": "b8b34f36",
   "metadata": {},
   "outputs": [],
   "source": []
  }
 ],
 "metadata": {
  "kernelspec": {
   "display_name": "Python 3 (ipykernel)",
   "language": "python",
   "name": "python3"
  }
 },
 "nbformat": 4,
 "nbformat_minor": 5
}
