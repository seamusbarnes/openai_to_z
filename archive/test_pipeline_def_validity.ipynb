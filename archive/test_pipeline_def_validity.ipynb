{
 "cells": [
  {
   "cell_type": "markdown",
   "id": "fccd711e",
   "metadata": {},
   "source": [
    "- **purpose**: Test whether the selected .json file is valid json. Specifically, checking pdal pipeline definition templates.\n",
    "\n",
    "- **status**: Code works.\n",
    "\n",
    "- **next**: COMPLETE\n",
    "\n",
    "- **conclusion**: This code can be used to check whether the specified .json is valid."
   ]
  },
  {
   "cell_type": "code",
   "execution_count": 12,
   "id": "701e0062",
   "metadata": {},
   "outputs": [
    {
     "name": "stdout",
     "output_type": "stream",
     "text": [
      "The autoreload extension is already loaded. To reload it, use:\n",
      "  %reload_ext autoreload\n"
     ]
    }
   ],
   "source": [
    "import sys\n",
    "import os\n",
    "\n",
    "sys.path.append(os.path.join(\n",
    "    os.getcwd(),\n",
    "    \"src\"\n",
    "    )\n",
    ")\n",
    "\n",
    "from project_utils import lidar as lidar\n",
    "\n",
    "# auto-reload any module that changes on disk\n",
    "%load_ext autoreload\n",
    "%autoreload\n",
    "# %reload_ext autoreload"
   ]
  },
  {
   "cell_type": "code",
   "execution_count": 14,
   "id": "c7d759ff",
   "metadata": {},
   "outputs": [
    {
     "name": "stdout",
     "output_type": "stream",
     "text": [
      "Going to open: config/pdal_pipelines/new_dtm.json\n",
      "Going to open: config/pdal_pipelines/new_dtm.json\n",
      "\n",
      "config/pdal_pipelines/new_dtm.json is valid json\n"
     ]
    }
   ],
   "source": [
    "pipeline_path = \"config/pdal_pipelines/new_dtm.json\"\n",
    "print(\"Going to open:\", pipeline_path)\n",
    "\n",
    "def check_json_validity(pipeline_path, verbose=True, character_count=100):\n",
    "    print(\"Going to open:\", pipeline_path)\n",
    "    try:\n",
    "        with open(pipeline_path, 'r', encoding='utf-8') as f:\n",
    "            raw = f.read()\n",
    "        if verbose:\n",
    "            print(f\"First {character_count} characters:\", raw[:min(character_count, len(raw)-1)])\n",
    "        return True\n",
    "    except UnicodeDecodeError as e:\n",
    "        print(\"File is not UTF-8: \", e)\n",
    "        return False\n",
    "\n",
    "valid = check_json_validity(pipeline_path, verbose=False, character_count=1000)\n",
    "print(\"\")\n",
    "if valid:\n",
    "    print (f\"{pipeline_path} is valid json\")\n",
    "else:\n",
    "    print (f\"{pipeline_path} is NOT valid json\")"
   ]
  },
  {
   "cell_type": "code",
   "execution_count": null,
   "id": "b13e244c",
   "metadata": {},
   "outputs": [],
   "source": []
  }
 ],
 "metadata": {
  "kernelspec": {
   "display_name": "Python (Conda, openai_to_z)",
   "language": "python",
   "name": "openai_to_z"
  }
 },
 "nbformat": 4,
 "nbformat_minor": 5
}
