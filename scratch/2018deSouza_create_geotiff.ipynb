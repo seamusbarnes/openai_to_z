{
 "cells": [
  {
   "cell_type": "code",
   "execution_count": 126,
   "id": "40b05430",
   "metadata": {},
   "outputs": [],
   "source": [
    "import os\n",
    "import pandas as pd\n",
    "import geopandas as gpd\n",
    "import rasterio\n",
    "from rasterio.merge import merge\n",
    "import matplotlib.pyplot as plt\n",
    "from shapely.geometry import Point, box\n",
    "import subprocess"
   ]
  },
  {
   "cell_type": "code",
   "execution_count": 115,
   "id": "d34a9172",
   "metadata": {},
   "outputs": [
    {
     "name": "stdout",
     "output_type": "stream",
     "text": [
      "/Users/jamesbyers/code/github/Kaggle/openai_to_z\n"
     ]
    }
   ],
   "source": [
    "cwd = os.getcwd()\n",
    "print(cwd)"
   ]
  },
  {
   "cell_type": "code",
   "execution_count": 116,
   "id": "39a9062b",
   "metadata": {},
   "outputs": [],
   "source": [
    "site_csv_path = os.path.join(cwd, 'papers/2018deSouza', '2018deSouza_sites.csv')\n",
    "tile_csv_path = os.path.join(cwd, 'lidar_filtered', 'cms_brazil_lidar_tile_inventory.csv')"
   ]
  },
  {
   "cell_type": "code",
   "execution_count": 151,
   "id": "64efc5f9",
   "metadata": {},
   "outputs": [
    {
     "name": "stdout",
     "output_type": "stream",
     "text": [
      "   site structure                 type  latitude  longitude  area_ha  \\\n",
      "0  Mt01         l   circular_enclosure   -9.4071   -57.9452     1.61   \n",
      "1  Mt02         l  hexagonal_enclosure   -9.8711   -57.8872     3.18   \n",
      "2  Mt03         l   circular_enclosure   -9.7048   -57.8772     5.11   \n",
      "3  Mt04         l            enclosure   -9.8132   -57.8212     2.41   \n",
      "4  Mt05         l   circular_enclosure   -9.8221   -57.7557     1.77   \n",
      "\n",
      "   potential_population                  geometry  \n",
      "0                 239.0  POINT (-57.9452 -9.4071)  \n",
      "1                 454.0  POINT (-57.8872 -9.8711)  \n",
      "2                 719.0  POINT (-57.8772 -9.7048)  \n",
      "3                 349.0  POINT (-57.8212 -9.8132)  \n",
      "4                 262.0  POINT (-57.7557 -9.8221)  \n",
      "104\n"
     ]
    }
   ],
   "source": [
    "# Load archaeological site data\n",
    "sites_df = pd.read_csv(site_csv_path).iloc[:, 2:]\n",
    "sites_df['longitude'], sites_df['latitude'] = sites_df['latitude'], sites_df['longitude']\n",
    "sites_gdf = gpd.GeoDataFrame(\n",
    "    sites_df,\n",
    "    geometry=gpd.points_from_xy(sites_df['longitude'], sites_df['latitude']),\n",
    "    crs=\"EPSG:4326\"\n",
    ")\n",
    "\n",
    "print(sites_gdf.head())\n",
    "print(len(sites_gdf))"
   ]
  },
  {
   "cell_type": "code",
   "execution_count": 139,
   "id": "e5480ed3",
   "metadata": {},
   "outputs": [
    {
     "name": "stdout",
     "output_type": "stream",
     "text": [
      "                  filename   max_lat   min_lat    max_lon    min_lon  \\\n",
      "0   ANA_A01_2017_laz_0.laz -3.363488 -3.372548 -54.992912 -55.001927   \n",
      "1   ANA_A01_2017_laz_1.laz -3.347679 -3.354482 -55.001946 -55.010093   \n",
      "2  ANA_A01_2017_laz_10.laz -3.381571 -3.381970 -54.992893 -55.001891   \n",
      "3  ANA_A01_2017_laz_11.laz -3.363507 -3.372565 -55.001909 -55.010098   \n",
      "4  ANA_A01_2017_laz_12.laz -3.372516 -3.381571 -54.986568 -54.992912   \n",
      "\n",
      "    file_type  file_size_mb file_format  version   created utmzone  \\\n",
      "0  pointcloud     85.374953     LAS/LAZ      1.2  214/2017     21S   \n",
      "1  pointcloud     50.359133     LAS/LAZ      1.2  158/2017     21S   \n",
      "2  pointcloud      2.870918     LAS/LAZ      1.2  158/2017     21S   \n",
      "3  pointcloud     81.088782     LAS/LAZ      1.2  214/2017     21S   \n",
      "4  pointcloud     50.974691     LAS/LAZ      1.2  214/2017     21S   \n",
      "\n",
      "                                                 srs  \n",
      "0  +proj=utm +zone=21 +south +ellps=GRS80 +towgs8...  \n",
      "1  +proj=utm +zone=21 +south +ellps=GRS80 +towgs8...  \n",
      "2  +proj=utm +zone=21 +south +ellps=GRS80 +towgs8...  \n",
      "3  +proj=utm +zone=21 +south +ellps=GRS80 +towgs8...  \n",
      "4  +proj=utm +zone=21 +south +ellps=GRS80 +towgs8...  \n"
     ]
    }
   ],
   "source": [
    "# --- Load LiDAR tile metadata ---\n",
    "tiles_df = pd.read_csv(tile_csv_path)\n",
    "\n",
    "print(tiles_df.head())"
   ]
  },
  {
   "cell_type": "code",
   "execution_count": 140,
   "id": "7421a3d5",
   "metadata": {},
   "outputs": [],
   "source": [
    "tiles_gdf = gpd.GeoDataFrame(\n",
    "    tiles_df,\n",
    "    geometry=[\n",
    "        box(row['min_lon'], row['min_lat'], row['max_lon'], row['max_lat'])\n",
    "        for _, row in tiles_df.iterrows()\n",
    "    ],\n",
    "    crs=\"EPSG:4326\"\n",
    ")"
   ]
  },
  {
   "cell_type": "code",
   "execution_count": 149,
   "id": "8b2170f3",
   "metadata": {},
   "outputs": [
    {
     "name": "stdout",
     "output_type": "stream",
     "text": [
      "0 out of 104 sites are within LiDAR tile bounds.\n"
     ]
    }
   ],
   "source": [
    "# Spatial join to check which points fall in any tile polygon\n",
    "joined = gpd.sjoin(sites_gdf, tiles_gdf, how=\"left\", predicate=\"within\")\n",
    "inside_tiles = joined[~joined['index_right'].isna()]\n",
    "print(f\"{len(inside_tiles)} out of {len(sites_gdf)} sites are within LiDAR tile bounds.\")\n"
   ]
  },
  {
   "cell_type": "code",
   "execution_count": 150,
   "id": "b4c16c99",
   "metadata": {},
   "outputs": [
    {
     "data": {
      "image/png": "[encoded data removed]",
      "text/plain": [
       "<Figure size 400x400 with 1 Axes>"
      ]
     },
     "metadata": {},
     "output_type": "display_data"
    }
   ],
   "source": [
    "# Plot tile boxes and site points\n",
    "fig, ax = plt.subplots(figsize=(4, 4))\n",
    "tiles_gdf.boundary.plot(ax=ax, edgecolor='blue', linewidth=0.5, label=\"LiDAR Tiles\")\n",
    "sites_gdf.plot(ax=ax, color='red', markersize=5, label=\"Sites\")\n",
    "plt.legend()\n",
    "plt.title(\"Sites and LiDAR Tile Coverage\")\n",
    "plt.xlabel(\"Longitude\")\n",
    "plt.ylabel(\"Latitude\")\n",
    "plt.grid(True)\n",
    "plt.show()"
   ]
  },
  {
   "cell_type": "code",
   "execution_count": 152,
   "id": "42ea2343",
   "metadata": {},
   "outputs": [
    {
     "name": "stdout",
     "output_type": "stream",
     "text": [
      "0 out of 104 sites fall within any LiDAR tile.\n"
     ]
    }
   ],
   "source": [
    "joined = gpd.sjoin(sites_gdf, tiles_gdf, how=\"left\", predicate=\"within\")\n",
    "inside_tiles = joined[~joined['index_right'].isna()]\n",
    "print(f\"{len(inside_tiles)} out of {len(sites_gdf)} sites fall within any LiDAR tile.\")"
   ]
  },
  {
   "cell_type": "code",
   "execution_count": 155,
   "id": "ac7cd565",
   "metadata": {},
   "outputs": [
    {
     "name": "stderr",
     "output_type": "stream",
     "text": [
      "/var/folders/55/3_yjz_1s37vcxh8ld7nlc8k00000gn/T/ipykernel_59828/4207988477.py:5: UserWarning: Geometry is in a geographic CRS. Results from 'centroid' are likely incorrect. Use 'GeoSeries.to_crs()' to re-project geometries to a projected CRS before this operation.\n",
      "\n",
      "  tiles_gdf['centroid'] = tiles_gdf.geometry.centroid\n"
     ]
    }
   ],
   "source": [
    "from scipy.spatial import cKDTree\n",
    "import numpy as np\n",
    "\n",
    "# Create centroids for each tile\n",
    "tiles_gdf['centroid'] = tiles_gdf.geometry.centroid\n",
    "tiles_centroids = tiles_gdf.set_geometry('centroid')\n",
    "\n",
    "\n",
    "# Extract coordinates\n",
    "site_coords = np.array(list(sites_gdf.geometry.apply(lambda geom: (geom.x, geom.y))))\n",
    "tile_coords = np.array(list(tiles_centroids.geometry.apply(lambda geom: (geom.x, geom.y))))\n",
    "\n",
    "# Build KDTree and query nearest neighbour\n",
    "tile_tree = cKDTree(tile_coords)\n",
    "distances, indices = tile_tree.query(site_coords, k=1)\n",
    "\n",
    "# Attach results back to site GeoDataFrame\n",
    "sites_gdf['nearest_tile_index'] = indices\n",
    "sites_gdf['distance_to_tile_deg'] = distances"
   ]
  },
  {
   "cell_type": "code",
   "execution_count": 158,
   "id": "69182d5a",
   "metadata": {},
   "outputs": [
    {
     "data": {
      "text/plain": [
       "np.float64(0.12264579080277659)"
      ]
     },
     "execution_count": 158,
     "metadata": {},
     "output_type": "execute_result"
    }
   ],
   "source": [
    "sites_gdf['distance_to_tile_deg'].min()"
   ]
  }
 ],
 "metadata": {
  "kernelspec": {
   "display_name": "Python 3 (ipykernel)",
   "language": "python",
   "name": "python3"
  }
 },
 "nbformat": 4,
 "nbformat_minor": 5
}
