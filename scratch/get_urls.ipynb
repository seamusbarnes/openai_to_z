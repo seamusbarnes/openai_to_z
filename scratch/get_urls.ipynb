{
 "cells": [
  {
   "cell_type": "code",
   "execution_count": 18,
   "id": "fcbdf426",
   "metadata": {},
   "outputs": [
    {
     "name": "stdout",
     "output_type": "stream",
     "text": [
      "Extracted 3156 URLs to urls.txt\n"
     ]
    }
   ],
   "source": [
    "from bs4 import BeautifulSoup\n",
    "\n",
    "HTML_FILE = '/Users/jamesbyers/code/github/Kaggle/openai_to_z/data/raw/laz/orders/81ce00904539eeebe5aaaa727b279567/download_links.html'              # Change to your downloaded HTML filename\n",
    "BASE_URL = 'https://daac.ornl.gov/orders/81ce00904539eeebe5aaaa727b279567/'  # The prefix to make full URLs\n",
    "\n",
    "with open(HTML_FILE) as f:\n",
    "    soup = BeautifulSoup(f, 'html.parser')\n",
    "\n",
    "urls = []\n",
    "for link in soup.find_all('a', href=True):\n",
    "    href = link['href']\n",
    "    # Skip links likely to be navigation or lists\n",
    "    if href.startswith('index.html') or href.startswith('?') or href.startswith('/'):\n",
    "        continue\n",
    "    if href.startswith('http'):\n",
    "        urls.append(href)\n",
    "    else:\n",
    "        urls.append(BASE_URL + href)\n",
    "\n",
    "with open('urls.txt', 'w') as f:\n",
    "    for url in urls:\n",
    "        f.write(url + '\\n')\n",
    "\n",
    "print(f\"Extracted {len(urls)} URLs to urls.txt\")"
   ]
  },
  {
   "cell_type": "code",
   "execution_count": null,
   "id": "2d8bf321",
   "metadata": {},
   "outputs": [],
   "source": []
  }
 ],
 "metadata": {
  "kernelspec": {
   "display_name": "Python (Conda, openai_to_z)",
   "language": "python",
   "name": "openai_to_z"
  },
  "language_info": {
   "codemirror_mode": {
    "name": "ipython",
    "version": 3
   },
   "file_extension": ".py",
   "mimetype": "text/x-python",
   "name": "python",
   "nbconvert_exporter": "python",
   "pygments_lexer": "ipython3",
   "version": "3.10.18"
  }
 },
 "nbformat": 4,
 "nbformat_minor": 5
}
