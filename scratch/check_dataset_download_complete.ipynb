{
 "cells": [
  {
   "cell_type": "code",
   "execution_count": 4,
   "id": "5b29e2b6",
   "metadata": {},
   "outputs": [],
   "source": [
    "import os\n",
    "import pandas as pd"
   ]
  },
  {
   "cell_type": "code",
   "execution_count": 3,
   "id": "c5de405a",
   "metadata": {},
   "outputs": [],
   "source": [
    "PATH_TO_DF = \"/Users/jamesbyers/code/github/Kaggle/openai_to_z/data/metadata/cms_brazil_lidar_tile_inventory.csv\"\n",
    "LAZ_DIR = \"/Users/jamesbyers/code/github/Kaggle/openai_to_z/data/raw/laz\"\n",
    "\n",
    "df = pd.read_csv(PATH_TO_DF)"
   ]
  },
  {
   "cell_type": "code",
   "execution_count": 5,
   "id": "8788bd52",
   "metadata": {},
   "outputs": [],
   "source": [
    "laz_files = set(os.listdir(LAZ_DIR))\n",
    "\n",
    "missing = df[~df[\"filename\"].isin(laz_files)]"
   ]
  },
  {
   "cell_type": "code",
   "execution_count": 6,
   "id": "ea8a8ae0",
   "metadata": {},
   "outputs": [
    {
     "name": "stdout",
     "output_type": "stream",
     "text": [
      "All filenames in df exist in LAZ_DIR.\n"
     ]
    }
   ],
   "source": [
    "if missing.empty:\n",
    "    print(\"All filenames in df exist in LAZ_DIR.\")\n",
    "else:\n",
    "    print(\"Missing the following filenames from LAZ_DIR:\")\n",
    "    print(missing['filename'])"
   ]
  },
  {
   "cell_type": "code",
   "execution_count": null,
   "id": "0d1e5f1b",
   "metadata": {},
   "outputs": [],
   "source": []
  }
 ],
 "metadata": {
  "kernelspec": {
   "display_name": "Python (Conda, openai_to_z)",
   "language": "python",
   "name": "openai_to_z"
  },
  "language_info": {
   "codemirror_mode": {
    "name": "ipython",
    "version": 3
   },
   "file_extension": ".py",
   "mimetype": "text/x-python",
   "name": "python",
   "nbconvert_exporter": "python",
   "pygments_lexer": "ipython3",
   "version": "3.10.18"
  }
 },
 "nbformat": 4,
 "nbformat_minor": 5
}
