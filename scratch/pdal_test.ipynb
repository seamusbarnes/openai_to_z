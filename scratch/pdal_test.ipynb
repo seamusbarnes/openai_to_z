{
 "cells": [
  {
   "cell_type": "code",
   "execution_count": 1,
   "id": "9b0751c2",
   "metadata": {},
   "outputs": [
    {
     "name": "stdout",
     "output_type": "stream",
     "text": [
      "3.4.5\n"
     ]
    }
   ],
   "source": [
    "import os\n",
    "import json\n",
    "import pdal\n",
    "import laspy\n",
    "import numpy as np\n",
    "\n",
    "print(pdal.__version__)"
   ]
  },
  {
   "cell_type": "code",
   "execution_count": 2,
   "id": "c51935fd",
   "metadata": {},
   "outputs": [
    {
     "name": "stdout",
     "output_type": "stream",
     "text": [
      "Files in data/raw/tiles/laz\n",
      "index: 0 ; TAP_A03_2012_laz_10.copc.laz\n",
      "index: 1 ; ANA_A01_2017_laz_10.laz\n",
      "index: 2 ; ANA_A01_2017_laz_2.laz\n",
      "index: 3 ; ANA_A01_2017_laz_1.laz\n",
      "index: 4 ; ANA_A01_2017_laz_0.laz\n",
      "index: 5 ; AND_A01_2013_laz_11.laz\n",
      "index: 6 ; AND_A01_2013_laz_10.laz\n",
      "index: 7 ; TAP_A03_2012_laz_10.laz\n",
      "index: 8 ; ANA_A01_2018_LAS_11.laz\n",
      "True\n",
      "data/raw/tiles/laz/TAP_A03_2012_laz_10.copc.laz\n"
     ]
    }
   ],
   "source": [
    "file_index = 0\n",
    "\n",
    "path_to_laz_dir = os.path.join(\n",
    "    \"data\",\n",
    "    \"raw\",\n",
    "    \"tiles\",\n",
    "    \"laz\"\n",
    ")\n",
    "print(f\"Files in {path_to_laz_dir}\")\n",
    "files = os.listdir(path_to_laz_dir)\n",
    "for i, file in enumerate(files):\n",
    "    print(f\"index: {i:<2}; {file}\")\n",
    "\n",
    "path_to_file = os.path.join(\n",
    "    path_to_laz_dir,\n",
    "    files[file_index]\n",
    ")\n",
    "print(os.path.exists(path_to_file))\n",
    "print(path_to_file)"
   ]
  },
  {
   "cell_type": "code",
   "execution_count": 3,
   "id": "077a400b",
   "metadata": {},
   "outputs": [
    {
     "name": "stdout",
     "output_type": "stream",
     "text": [
      "Classification counts:\n",
      "     Class      Count    Percent\n",
      "--------------------------------\n",
      "         2    1244995         3 %\n",
      "         3    1826676         5 %\n",
      "         4    2278441         6 %\n",
      "         5   34235988        86 %\n"
     ]
    }
   ],
   "source": [
    "las = laspy.read(path_to_file)\n",
    "\n",
    "# Get classifications as a numpy array\n",
    "classifications = las.classification\n",
    "\n",
    "# Use numpy to count unique classes and occurrences\n",
    "classes, counts = np.unique(classifications, return_counts=True)\n",
    "\n",
    "all_counts = sum(counts)\n",
    "\n",
    "# Print formatted table\n",
    "print(\"Classification counts:\")\n",
    "print(f\"{'Class':>10} {'Count':>10} {'Percent':>10}\")\n",
    "print(\"-\" * 32)\n",
    "for cl, ct in zip(classes, counts):\n",
    "    percent = (ct / all_counts) * 100\n",
    "    print(f\"{cl:>10} {ct:>10} {percent:>9.0f} %\")"
   ]
  },
  {
   "cell_type": "code",
   "execution_count": 4,
   "id": "7a60f5b8",
   "metadata": {},
   "outputs": [
    {
     "name": "stdout",
     "output_type": "stream",
     "text": [
      "X: 726999.68 to 727923.67\n",
      "Y: 9654999.80 to 9656000.17\n",
      "Subset bounds:\n",
      "x=[727415.48, 727507.87]\n",
      "y=[9655449.97, 9655550.00]\n"
     ]
    }
   ],
   "source": [
    "las = laspy.read(path_to_file)\n",
    "min_x, max_x = las.x.min(), las.x.max()\n",
    "min_y, max_y = las.y.min(), las.y.max()\n",
    "\n",
    "print(f\"X: {min_x:.2f} to {max_x:.2f}\")\n",
    "print(f\"Y: {min_y:.2f} to {max_y:.2f}\")\n",
    "\n",
    "center_x = (min_x + max_x) / 2\n",
    "center_y = (min_y + max_y) / 2\n",
    "\n",
    "dx = (max_x - min_x) * 0.10 / 2  # 10% width, half on each side\n",
    "dy = (max_y - min_y) * 0.10 / 2\n",
    "\n",
    "xmin = center_x - dx\n",
    "xmax = center_x + dx\n",
    "ymin = center_y - dy\n",
    "ymax = center_y + dy\n",
    "print(f\"Subset bounds:\")\n",
    "print(f\"x=[{xmin:.2f}, {xmax:.2f}]\")\n",
    "print(f\"y=[{ymin:.2f}, {ymax:.2f}]\")"
   ]
  },
  {
   "cell_type": "code",
   "execution_count": null,
   "id": "d7a8bfbf",
   "metadata": {},
   "outputs": [],
   "source": [
    "\"type\": \"filters.crop\",\n",
    "    \"bounds\": \"([727415.48, 727507.87],[9655449.97, 9655550.00])\""
   ]
  },
  {
   "cell_type": "code",
   "execution_count": 5,
   "id": "512e5254",
   "metadata": {},
   "outputs": [
    {
     "name": "stdout",
     "output_type": "stream",
     "text": [
      "\n"
     ]
    }
   ],
   "source": [
    "json_pipeline = \"\"\"\n",
    "[\n",
    "    {\n",
    "        \"type\": \"readers.las\",\n",
    "        \"filename\": \"data/raw/tiles/laz/TAP_A03_2012_laz_10.copc.laz\"\n",
    "    },\n",
    "    {\n",
    "        \"type\": \"filters.info\"\n",
    "    }\n",
    "]\n",
    "\"\"\"\n",
    "\n",
    "pipeline_def_tutorial = \"\"\"\n",
    "[\n",
    "    {\n",
    "        \"type\": \"readers.las\",\n",
    "        \"filename\": \"data/raw/tiles/laz/TAP_A03_2012_laz_10.copc.laz\"\n",
    "    },\n",
    "    {\n",
    "      \"type\":\"filters.reprojection\",\n",
    "      \"in_srs\": \"+proj=utm +zone=21 +south +ellps=GRS80 +towgs84=0,0,0,0,0,0,0 +units=m +no_defs\",\n",
    "      \"out_srs\":\"EPSG:32632\"\n",
    "    },\n",
    "    {\n",
    "      \"type\":\"filters.assign\",\n",
    "      \"value\":\"Classification = 0\"\n",
    "    },\n",
    "    {\n",
    "      \"type\":\"filters.elm\"\n",
    "    },\n",
    "    {\n",
    "      \"type\":\"filters.outlier\"\n",
    "    },\n",
    "    {\n",
    "      \"type\":\"filters.smrf\",\n",
    "      \"returns\":\"last\",\n",
    "      \"where\":\"!(Classification == 7)\",\n",
    "      \"slope\":0.2,\n",
    "      \"window\":16,\n",
    "      \"threshold\":0.45,\n",
    "      \"scalar\":1.2\n",
    "    },\n",
    "    {\n",
    "      \"type\":\"filters.expression\",\n",
    "      \"expression\":\"Classification == 2\"\n",
    "    }\n",
    "]\n",
    "\"\"\"\n",
    "\n",
    "pipeline_def_get_ground = \"\"\"\n",
    "[\n",
    "    {\n",
    "      \"type\": \"readers.las\",\n",
    "      \"filename\": \"data/raw/tiles/laz/TAP_A03_2012_laz_10.copc.laz\"\n",
    "    },\n",
    "    {\n",
    "      \"type\": \"filters.crop\",\n",
    "      \"bounds\": \"([727415.48, 727507.87],[9655449.97, 9655550.00])\"\n",
    "    },\n",
    "    {\n",
    "      \"type\": \"filters.outlier\"\n",
    "    },\n",
    "    {\n",
    "      \"type\": \"filters.csf\", \n",
    "        \"threshold\": 0.2,\n",
    "        \"rigidness\": 2, \n",
    "        \"iterations\": 500\n",
    "    },\n",
    "    {\n",
    "      \"type\": \"filters.range\",\n",
    "      \"limits\": \"Classification[2:2]\"\n",
    "    },\n",
    "    {\n",
    "      \"type\": \"writers.gdal\",\n",
    "      \"filename\": \"csf_ground.tif\",\n",
    "      \"resolution\": 2.0,\n",
    "      \"output_type\": \"min\",\n",
    "      \"gdaldriver\": \"GTiff\"\n",
    "    }\n",
    "]\n",
    "\"\"\"\n",
    "\n",
    "# pipeline = pdal.Pipeline(json_pipeline)\n",
    "pipeline = pdal.Pipeline(pipeline_def_get_ground)\n",
    "count = pipeline.execute()\n",
    "arrays = pipeline.arrays\n",
    "metadata = pipeline.metadata\n",
    "logs = pipeline.log\n",
    "print(logs)"
   ]
  },
  {
   "cell_type": "code",
   "execution_count": 7,
   "id": "8a9f7567",
   "metadata": {},
   "outputs": [
    {
     "data": {
      "image/png": "[encoded data removed]",
      "text/plain": [
       "<Figure size 640x480 with 2 Axes>"
      ]
     },
     "metadata": {},
     "output_type": "display_data"
    }
   ],
   "source": [
    "import rasterio\n",
    "import matplotlib.pyplot as plt\n",
    "\n",
    "with rasterio.open('csf_ground.tif') as src:\n",
    "    dem = src.read(1)\n",
    "    plt.imshow(dem, cmap='terrain', extent=src.bounds, origin='upper')\n",
    "    plt.colorbar(label='Z')\n",
    "    plt.title(\"DEM from PDAL (coarse resolution)\")\n",
    "    plt.xlabel('X')\n",
    "    plt.ylabel('Y')\n",
    "    plt.show()"
   ]
  },
  {
   "cell_type": "code",
   "execution_count": 14,
   "id": "614988c3",
   "metadata": {},
   "outputs": [
    {
     "data": {
      "image/png": "[encoded data removed]",
      "text/plain": [
       "<Figure size 640x480 with 2 Axes>"
      ]
     },
     "metadata": {},
     "output_type": "display_data"
    }
   ],
   "source": [
    "import numpy as np\n",
    "import matplotlib.pyplot as plt\n",
    "\n",
    "arr = pipeline.arrays[0]\n",
    "# Define raster grid\n",
    "xmin, xmax = arr['X'].min(), arr['X'].max()\n",
    "ymin, ymax = arr['Y'].min(), arr['Y'].max()\n",
    "\n",
    "res = 2.0  # cell size in same units as X/Y (e.g. meters)\n",
    "# Set up bins\n",
    "xbins = np.arange(xmin, xmax, res)\n",
    "ybins = np.arange(ymin, ymax, res)\n",
    "\n",
    "# Digitize to grid, then take max, mean, or min Z for each cell\n",
    "xi = np.digitize(arr['X'], xbins) - 1\n",
    "yi = np.digitize(arr['Y'], ybins) - 1\n",
    "\n",
    "# Flat 2D grid for mean Z\n",
    "dem = np.full((len(xbins), len(ybins)), np.nan)\n",
    "counts = np.zeros((len(xbins), len(ybins)), dtype=int)\n",
    "\n",
    "for x, y, z in zip(xi, yi, arr['Z']):\n",
    "    if 0 <= x < dem.shape[0] and 0 <= y < dem.shape[1]:\n",
    "        if np.isnan(dem[x, y]):\n",
    "            dem[x, y] = z\n",
    "        else:\n",
    "            dem[x, y] += z\n",
    "        counts[x, y] += 1\n",
    "\n",
    "# Take mean\n",
    "with np.errstate(invalid='ignore'):\n",
    "    dem = dem / counts\n",
    "    dem[np.isnan(dem)] = 0  # if you want to set no-data to 0\n",
    "\n",
    "plt.imshow(dem.T, origin='lower', cmap='terrain',\n",
    "           extent=[xmin, xmax, ymin, ymax])\n",
    "plt.title('DEM (mean Z)')\n",
    "plt.colorbar(label='Z')\n",
    "plt.xlabel('X')\n",
    "plt.ylabel('Y')\n",
    "plt.show()"
   ]
  },
  {
   "cell_type": "code",
   "execution_count": null,
   "id": "fdfb61c6",
   "metadata": {},
   "outputs": [],
   "source": []
  }
 ],
 "metadata": {
  "kernelspec": {
   "display_name": "Python (condavenv(",
   "language": "python",
   "name": "condavenv"
  },
  "language_info": {
   "codemirror_mode": {
    "name": "ipython",
    "version": 3
   },
   "file_extension": ".py",
   "mimetype": "text/x-python",
   "name": "python",
   "nbconvert_exporter": "python",
   "pygments_lexer": "ipython3",
   "version": "3.12.9"
  }
 },
 "nbformat": 4,
 "nbformat_minor": 5
}
