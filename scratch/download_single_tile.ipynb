{
 "cells": [
  {
   "cell_type": "code",
   "execution_count": 3,
   "id": "d86de1b7",
   "metadata": {},
   "outputs": [
    {
     "name": "stdout",
     "output_type": "stream",
     "text": [
      "The autoreload extension is already loaded. To reload it, use:\n",
      "  %reload_ext autoreload\n"
     ]
    }
   ],
   "source": [
    "import os\n",
    "import pandas as pd\n",
    "import numpy as np\n",
    "import sys\n",
    "\n",
    "# compute absolute path to the project root's src/\n",
    "sys.path.insert(0, os.path.join(os.getcwd(), \"src\"))\n",
    "\n",
    "from project_utils import io as proj_io\n",
    "from project_utils import satellite as satellite\n",
    "from project_utils import lidar as lidar\n",
    "from project_utils import config as proj_config\n",
    "\n",
    "# auto-reload any module that changes on disk\n",
    "%load_ext autoreload\n",
    "%autoreload\n",
    "# %reload_ext autoreload"
   ]
  },
  {
   "cell_type": "code",
   "execution_count": 2,
   "id": "020bdda6",
   "metadata": {},
   "outputs": [],
   "source": [
    "PATH_TO_DATASET_INVENTORY = \"data/metadata/cms_brazil_lidar_tile_inventory.csv\"\n",
    "FILENAME = \"RIB_A01_2014_laz_2.laz\"\n",
    "\n",
    "df = pd.read_csv(PATH_TO_DATASET_INVENTORY)\n",
    "\n",
    "row = df[df[\"filename\"]==FILENAME]"
   ]
  },
  {
   "cell_type": "code",
   "execution_count": 7,
   "id": "a8a6d899",
   "metadata": {},
   "outputs": [
    {
     "name": "stdout",
     "output_type": "stream",
     "text": [
      "[io] Downloading RIB_A01_2014_laz_2.laz...\n",
      "[io] Failed to download RIB_A01_2014_laz_2.laz: HTTPSConnectionPool(host='daac.ornl.gov', port=443): Read timed out.\n"
     ]
    }
   ],
   "source": [
    "img_dest = proj_io.fetch_laz_file(FILENAME, \"/Users/jamesbyers/code/github/Kaggle/openai_to_z/data/example\", overwrite=True)"
   ]
  },
  {
   "cell_type": "code",
   "execution_count": null,
   "id": "8f50831e",
   "metadata": {},
   "outputs": [],
   "source": []
  }
 ],
 "metadata": {
  "kernelspec": {
   "display_name": "Python (Conda, openai_to_z)",
   "language": "python",
   "name": "openai_to_z"
  },
  "language_info": {
   "codemirror_mode": {
    "name": "ipython",
    "version": 3
   },
   "file_extension": ".py",
   "mimetype": "text/x-python",
   "name": "python",
   "nbconvert_exporter": "python",
   "pygments_lexer": "ipython3",
   "version": "3.10.18"
  }
 },
 "nbformat": 4,
 "nbformat_minor": 5
}
