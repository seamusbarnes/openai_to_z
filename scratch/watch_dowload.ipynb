{
 "cells": [
  {
   "cell_type": "code",
   "execution_count": 8,
   "id": "f1a6b5a7",
   "metadata": {},
   "outputs": [
    {
     "name": "stdout",
     "output_type": "stream",
     "text": [
      "Watching: /Users/jamesbyers/code/github/Kaggle/openai_to_z/data/raw/laz/BA3_A02_2014_laz_10.laz\n",
      "    Time -    Size (MB) -   Speed (MB/s)\n",
      "21:18:25 -        10.20 -           0.34\n",
      "21:18:27 -        11.01 -           0.41\n",
      "21:18:29 -        11.86 -           0.42\n",
      "21:18:31 -        12.83 -           0.48\n",
      "21:18:33 -        13.99 -           0.58\n",
      "21:18:35 -        15.17 -           0.59\n",
      "21:18:37 -        16.52 -           0.67\n",
      "21:18:39 -        17.69 -           0.59\n",
      "21:18:41 -        18.54 -           0.42\n",
      "21:18:43 -        19.26 -           0.36\n",
      "21:18:45 -        20.15 -           0.44\n",
      "21:18:47 -        21.23 -           0.54\n",
      "21:18:49 -        22.49 -           0.63\n",
      "21:18:51 -        23.59 -           0.55\n",
      "21:18:53 -        24.55 -           0.48\n",
      "21:18:55 -        25.45 -           0.45\n",
      "21:18:57 -        26.30 -           0.43\n",
      "21:18:59 -        26.94 -           0.32\n",
      "21:19:01 -        27.50 -           0.28\n",
      "21:19:03 -        27.50 -           0.00\n",
      "File size hasn't changed. Download may be complete.\n"
     ]
    }
   ],
   "source": [
    "import os\n",
    "import time\n",
    "\n",
    "def watch_file_size(filepath, interval=10):\n",
    "    if not os.path.exists(filepath):\n",
    "        print(f\"File not found: {filepath}\")\n",
    "        return\n",
    "    last_size = os.path.getsize(filepath)\n",
    "    last_time = time.time()\n",
    "    print(\"Watching:\", filepath)\n",
    "    print(f\"{'Time':>8} - {'Size (MB)':>12} - {'Speed (MB/s)':>14}\")\n",
    "    while True:\n",
    "        try:\n",
    "            time.sleep(interval)\n",
    "            size = os.path.getsize(filepath)\n",
    "            now = time.time()\n",
    "            delta_size = size - last_size\n",
    "            delta_time = now - last_time\n",
    "            mb = size / 1024 / 1024\n",
    "            mb_delta = delta_size / 1024 / 1024\n",
    "            speed = mb_delta / delta_time if delta_time > 0 else 0\n",
    "\n",
    "            print(f\"{time.strftime('%H:%M:%S')} - {mb:12.2f} - {speed:14.2f}\")\n",
    "\n",
    "            if size == last_size:\n",
    "                print(\"File size hasn't changed. Download may be complete.\")\n",
    "                break\n",
    "\n",
    "            last_size = size\n",
    "            last_time = now\n",
    "        except KeyboardInterrupt:\n",
    "            print(\"\\nStopped by user.\")\n",
    "            break\n",
    "        except Exception as e:\n",
    "            print(f\"Error: {e}\")\n",
    "            break\n",
    "\n",
    "# Usage example:\n",
    "FILENAME = \"BA3_A02_2014_laz_10.laz\"\n",
    "CWD = os.getcwd()\n",
    "PATH_TO_DIR = os.path.join(CWD, \"data\", \"raw\", \"laz\")\n",
    "FILEPATH = os.path.join(PATH_TO_DIR, FILENAME)\n",
    "\n",
    "# Set interval as desired (seconds)\n",
    "watch_file_size(FILEPATH, interval=2)"
   ]
  },
  {
   "cell_type": "code",
   "execution_count": null,
   "id": "0faf2b59",
   "metadata": {},
   "outputs": [],
   "source": []
  }
 ],
 "metadata": {
  "kernelspec": {
   "display_name": "Python (Conda, openai_to_z)",
   "language": "python",
   "name": "openai_to_z"
  },
  "language_info": {
   "codemirror_mode": {
    "name": "ipython",
    "version": 3
   },
   "file_extension": ".py",
   "mimetype": "text/x-python",
   "name": "python",
   "nbconvert_exporter": "python",
   "pygments_lexer": "ipython3",
   "version": "3.10.18"
  }
 },
 "nbformat": 4,
 "nbformat_minor": 5
}
