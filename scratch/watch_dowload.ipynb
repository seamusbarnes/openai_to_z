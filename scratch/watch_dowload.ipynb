{
 "cells": [
  {
   "cell_type": "code",
   "execution_count": 20,
   "id": "f1a6b5a7",
   "metadata": {},
   "outputs": [
    {
     "name": "stdout",
     "output_type": "stream",
     "text": [
      "Watching: /Users/jamesbyers/code/github/Kaggle/openai_to_z/data/raw/laz/CON_A01_2015_LAS_91.laz\n",
      "    Time -    Size (MB) -   Speed (MB/s)\n",
      "09:16:22 -        57.14 -           0.00\n",
      "File size hasn't changed. Download may be complete.\n"
     ]
    }
   ],
   "source": [
    "import os\n",
    "import time\n",
    "\n",
    "def watch_file_size(filepath, interval=10):\n",
    "    if not os.path.exists(filepath):\n",
    "        print(f\"File not found: {filepath}\")\n",
    "        return\n",
    "    last_size = os.path.getsize(filepath)\n",
    "    last_time = time.time()\n",
    "    print(\"Watching:\", filepath)\n",
    "    print(f\"{'Time':>8} - {'Size (MB)':>12} - {'Speed (MB/s)':>14}\")\n",
    "    while True:\n",
    "        try:\n",
    "            time.sleep(interval)\n",
    "            size = os.path.getsize(filepath)\n",
    "            now = time.time()\n",
    "            delta_size = size - last_size\n",
    "            delta_time = now - last_time\n",
    "            mb = size / 1024 / 1024\n",
    "            mb_delta = delta_size / 1024 / 1024\n",
    "            speed = mb_delta / delta_time if delta_time > 0 else 0\n",
    "\n",
    "            print(f\"{time.strftime('%H:%M:%S')} - {mb:12.2f} - {speed:14.2f}\")\n",
    "\n",
    "            if size == last_size:\n",
    "                print(\"File size hasn't changed. Download may be complete.\")\n",
    "                break\n",
    "\n",
    "            last_size = size\n",
    "            last_time = now\n",
    "        except KeyboardInterrupt:\n",
    "            print(\"\\nStopped by user.\")\n",
    "            break\n",
    "        except Exception as e:\n",
    "            print(f\"Error: {e}\")\n",
    "            break\n",
    "\n",
    "# Usage example:\n",
    "FILENAME = \"CON_A01_2015_LAS_91.laz\"\n",
    "CWD = os.getcwd()\n",
    "PATH_TO_DIR = os.path.join(CWD, \"data\", \"raw\", \"laz\")\n",
    "FILEPATH = os.path.join(PATH_TO_DIR, FILENAME)\n",
    "\n",
    "# Set interval as desired (seconds)\n",
    "watch_file_size(FILEPATH, interval=2)"
   ]
  },
  {
   "cell_type": "code",
   "execution_count": null,
   "id": "0faf2b59",
   "metadata": {},
   "outputs": [],
   "source": []
  }
 ],
 "metadata": {
  "kernelspec": {
   "display_name": "Python (Conda, openai_to_z)",
   "language": "python",
   "name": "openai_to_z"
  },
  "language_info": {
   "codemirror_mode": {
    "name": "ipython",
    "version": 3
   },
   "file_extension": ".py",
   "mimetype": "text/x-python",
   "name": "python",
   "nbconvert_exporter": "python",
   "pygments_lexer": "ipython3",
   "version": "3.10.18"
  }
 },
 "nbformat": 4,
 "nbformat_minor": 5
}
