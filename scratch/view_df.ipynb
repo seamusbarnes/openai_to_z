{
 "cells": [
  {
   "cell_type": "code",
   "execution_count": 12,
   "id": "9f39c6ef",
   "metadata": {},
   "outputs": [],
   "source": [
    "import pandas as pd\n",
    "\n",
    "PATH = \"/Users/jamesbyers/code/github/Kaggle/openai_to_z/data/metadata/cms_brazil_lidar_tile_inventory.csv\"\n",
    "\n",
    "df = pd.read_csv(PATH)\n"
   ]
  },
  {
   "cell_type": "code",
   "execution_count": 19,
   "id": "0837a0ed",
   "metadata": {},
   "outputs": [
    {
     "name": "stdout",
     "output_type": "stream",
     "text": [
      "69.91352431111112\n",
      "2.9130635129629634\n"
     ]
    }
   ],
   "source": [
    "total_filesize = df[\"file_size_mb\"].sum()\n",
    "download_speed_per_s = 0.5\n",
    "\n",
    "download_speed_per_m = download_speed_per_s * 60\n",
    "download_speed_per_h = download_speed_per_s * 60 * 60\n",
    "\n",
    "hours = total_filesize/download_speed_per_h\n",
    "days = hours/24\n",
    "print(hours)\n",
    "print(days)\n",
    "\n"
   ]
  },
  {
   "cell_type": "code",
   "execution_count": null,
   "id": "69c7d934",
   "metadata": {},
   "outputs": [],
   "source": []
  }
 ],
 "metadata": {
  "kernelspec": {
   "display_name": "Python (Conda, openai_to_z)",
   "language": "python",
   "name": "openai_to_z"
  },
  "language_info": {
   "codemirror_mode": {
    "name": "ipython",
    "version": 3
   },
   "file_extension": ".py",
   "mimetype": "text/x-python",
   "name": "python",
   "nbconvert_exporter": "python",
   "pygments_lexer": "ipython3",
   "version": "3.10.18"
  }
 },
 "nbformat": 4,
 "nbformat_minor": 5
}
