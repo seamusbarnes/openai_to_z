{
 "cells": [
  {
   "cell_type": "code",
   "execution_count": 3,
   "id": "2fda383a",
   "metadata": {},
   "outputs": [],
   "source": [
    "import os\n",
    "import pandas as pd\n",
    "import numpy as np\n",
    "import sys\n",
    "import time\n",
    "import math\n",
    "\n",
    "import io\n",
    "import base64\n",
    "\n",
    "import json\n",
    "import pdal\n",
    "\n",
    "import rasterio\n",
    "import matplotlib.pyplot as plt"
   ]
  },
  {
   "cell_type": "code",
   "execution_count": 5,
   "id": "fe5039ff",
   "metadata": {},
   "outputs": [],
   "source": [
    "sys.path.insert(0, os.path.join(os.getcwd(), \"src\"))"
   ]
  },
  {
   "cell_type": "code",
   "execution_count": 6,
   "id": "bd6baf87",
   "metadata": {},
   "outputs": [],
   "source": [
    "%load_ext autoreload\n",
    "%autoreload"
   ]
  },
  {
   "cell_type": "code",
   "execution_count": 8,
   "id": "503fe0f0",
   "metadata": {},
   "outputs": [],
   "source": [
    "import src.config as config\n",
    "import src.lidar as lidar\n",
    "import src.satellite as satellite"
   ]
  },
  {
   "cell_type": "code",
   "execution_count": 15,
   "id": "683cfa3f",
   "metadata": {},
   "outputs": [
    {
     "name": "stdout",
     "output_type": "stream",
     "text": [
      "{'pipeline': [{'type': 'readers.las', 'filename': '{in_laz}'}, {'type': 'filters.smrf', 'scalar': 1.0}, {'type': 'filters.range', 'limits': 'Classification[2:2]'}, {'type': 'writers.gdal', 'filename': '{out_tif}', 'resolution': 1.0, 'gdaldriver': 'GTiff', 'output_type': 'max', 'window_size': 5, 'gdalopts': ['COMPRESS=LZW']}]}\n",
      "{\n",
      "    \"pipeline\": [\n",
      "        {\n",
      "            \"type\": \"readers.las\",\n",
      "            \"filename\": \"{in_laz}\"\n",
      "        },\n",
      "        {\n",
      "            \"type\": \"filters.smrf\",\n",
      "            \"scalar\": 1.0\n",
      "        },\n",
      "        {\n",
      "            \"type\": \"filters.range\",\n",
      "            \"limits\": \"Classification[2:2]\"\n",
      "        },\n",
      "        {\n",
      "            \"type\": \"writers.gdal\",\n",
      "            \"filename\": \"{out_tif}\",\n",
      "            \"resolution\": 1.0,\n",
      "            \"gdaldriver\": \"GTiff\",\n",
      "            \"output_type\": \"max\",\n",
      "            \"window_size\": 5,\n",
      "            \"gdalopts\": [\"COMPRESS=LZW\"]\n",
      "        }\n",
      "    ]\n",
      "}\n"
     ]
    }
   ],
   "source": [
    "PATH_TO_PDAL_DIR = os.path.join(\n",
    "    os.getcwd(),\n",
    "    \"config\",\n",
    "    \"pdal_pipeline_templates\"\n",
    ")\n",
    "\n",
    "PDAL_NAME = \"fnands.json\"\n",
    "\n",
    "PATH_TO_PIPELINE_DEF = os.path.join(\n",
    "    PATH_TO_PDAL_DIR,\n",
    "    PDAL_NAME\n",
    ")\n",
    "with open(PATH_TO_PIPELINE_DEF, \"r\") as f:\n",
    "    data = f.read()\n",
    "\n",
    "data = data.replace(\"{{\", \"{\")\n",
    "data = data.replace(\"}}\", \"}\")\n",
    "pipeline_def = json.loads(data)\n",
    "print(pipeline_def)\n",
    "print(data)"
   ]
  },
  {
   "cell_type": "code",
   "execution_count": null,
   "id": "f181500e",
   "metadata": {},
   "outputs": [],
   "source": []
  }
 ],
 "metadata": {
  "kernelspec": {
   "display_name": "Python (Conda, openai_to_z)",
   "language": "python",
   "name": "openai_to_z"
  },
  "language_info": {
   "codemirror_mode": {
    "name": "ipython",
    "version": 3
   },
   "file_extension": ".py",
   "mimetype": "text/x-python",
   "name": "python",
   "nbconvert_exporter": "python",
   "pygments_lexer": "ipython3",
   "version": "3.10.18"
  }
 },
 "nbformat": 4,
 "nbformat_minor": 5
}
