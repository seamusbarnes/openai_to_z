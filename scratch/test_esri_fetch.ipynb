{
 "cells": [
  {
   "cell_type": "markdown",
   "id": "425d600a",
   "metadata": {},
   "source": [
    "- _purpose_: Test `/src/project_utils/satellite.fetch_esri_from_row()` and see how it breaks\n",
    "\n",
    "- _status_: Code working. Investigation complete.\n",
    "\n",
    "- _next_: None.\n",
    "\n",
    "- _conclusion_:  Established that `satellite.fetch_esri_from_row()` breaks if bounding box length is smaller than 120 m. `https://services.arcgisonline/ArcGIS/rest/services/World_Imagery/MapServer/export` refuses the request and returns error 500."
   ]
  },
  {
   "cell_type": "code",
   "execution_count": 91,
   "id": "23e1da6f",
   "metadata": {},
   "outputs": [],
   "source": [
    "import os\n",
    "import sys\n",
    "\n",
    "import pandas as pd\n",
    "import matplotlib.pyplot as plt\n",
    "import math\n",
    "import numpy as np"
   ]
  },
  {
   "cell_type": "code",
   "execution_count": 61,
   "id": "e38e0233",
   "metadata": {},
   "outputs": [
    {
     "name": "stdout",
     "output_type": "stream",
     "text": [
      "The autoreload extension is already loaded. To reload it, use:\n",
      "  %reload_ext autoreload\n"
     ]
    }
   ],
   "source": [
    "sys.path.insert(0, os.path.join(os.getcwd(), \"src\"))\n",
    "\n",
    "from project_utils import config as proj_config\n",
    "from project_utils import satellite as proj_satellite\n",
    "\n",
    "%load_ext autoreload\n",
    "%autoreload"
   ]
  },
  {
   "cell_type": "code",
   "execution_count": 33,
   "id": "44f6a9b4",
   "metadata": {},
   "outputs": [],
   "source": [
    "PATH_TO_CONFIG = \"main/config.yml\"\n",
    "config = proj_config.Config(PATH_TO_CONFIG)\n",
    "\n",
    "PATH_TO_METADATA = config.get(\"paths\", \"dataset_csv\")\n",
    "METADATA_FILENAME = \"cms_brazil_lidar_tile_metadata.csv\"\n",
    "\n",
    "df = pd.read_csv(os.path.join(\n",
    "    PATH_TO_METADATA,\n",
    "    METADATA_FILENAME\n",
    "    )\n",
    ")\n",
    "\n",
    "df_sorted = df.sort_values(by=\"tile_area_m2\")"
   ]
  },
  {
   "cell_type": "code",
   "execution_count": 44,
   "id": "4047b034",
   "metadata": {},
   "outputs": [
    {
     "name": "stdout",
     "output_type": "stream",
     "text": [
      "PRG_A01_2013_P17a_laz_3.laz\n",
      "0.0014 km**2\n"
     ]
    }
   ],
   "source": [
    "row = df_sorted.iloc[0]\n",
    "filename = row[\"filename\"]\n",
    "area = row[\"tile_area_m2\"]\n",
    "\n",
    "print(filename)\n",
    "print(f\"{area:.4f} km**2\")"
   ]
  },
  {
   "cell_type": "code",
   "execution_count": 40,
   "id": "107c67b2",
   "metadata": {},
   "outputs": [],
   "source": [
    "# Plot the sorted 'tile_area_m2' values\n",
    "def plot_sorted_tile_areas():\n",
    "    plt.figure(figsize=(12, 6))\n",
    "\n",
    "    # Plot of 'tile_area_m2'\n",
    "    plt.subplot(1, 2, 1)\n",
    "    plt.plot(df_sorted['tile_area_m2'].reset_index(drop=True), marker='o')\n",
    "    plt.title('Tile Area Plot')\n",
    "    plt.xlabel('Index')\n",
    "    plt.ylabel('Tile Area (m²)')\n",
    "    plt.grid(True)\n",
    "\n",
    "    # Cumulative plot of 'tile_area_m2'\n",
    "    plt.subplot(1, 2, 2)\n",
    "    plt.plot(df_sorted['tile_area_m2'].cumsum().reset_index(drop=True), marker='o')\n",
    "    plt.title('Cumulative Tile Area Plot')\n",
    "    plt.xlabel('Index')\n",
    "    plt.ylabel('Cumulative Tile Area (m²)')\n",
    "    plt.grid(True)\n",
    "\n",
    "    # Display the plots\n",
    "    plt.tight_layout()\n",
    "    plt.show()\n",
    "\n",
    "# plot_sorted_tile_areas()"
   ]
  },
  {
   "cell_type": "code",
   "execution_count": 56,
   "id": "8d661ad6",
   "metadata": {},
   "outputs": [],
   "source": [
    "coords = proj_satellite.get_coords(df, filename)\n",
    "centre_lat, centre_lon = proj_satellite.get_centre_coord(coords)"
   ]
  },
  {
   "cell_type": "code",
   "execution_count": 57,
   "id": "236223a5",
   "metadata": {},
   "outputs": [
    {
     "name": "stdout",
     "output_type": "stream",
     "text": [
      "[satellite] Downloading ESRI image for PRG_A01_2013_P17a_laz_3.laz...\n"
     ]
    },
    {
     "ename": "HTTPError",
     "evalue": "500 Server Error:  for url: https://services.arcgisonline.com/ArcGIS/rest/services/World_Imagery/MapServer/export?bbox=-47.69956998%2C-3.334699031%2C-47.69956935%2C-3.334698849&bboxSR=4326&imageSR=4326&size=512%2C512&format=jpg&f=image",
     "output_type": "error",
     "traceback": [
      "\u001b[0;31m---------------------------------------------------------------------------\u001b[0m",
      "\u001b[0;31mHTTPError\u001b[0m                                 Traceback (most recent call last)",
      "Cell \u001b[0;32mIn[57], line 1\u001b[0m\n\u001b[0;32m----> 1\u001b[0m img \u001b[38;5;241m=\u001b[39m \u001b[43mproj_satellite\u001b[49m\u001b[38;5;241;43m.\u001b[39;49m\u001b[43mfetch_esri_from_row\u001b[49m\u001b[43m(\u001b[49m\u001b[43mdf\u001b[49m\u001b[43m,\u001b[49m\u001b[43m \u001b[49m\u001b[43mfilename\u001b[49m\u001b[43m)\u001b[49m\n",
      "File \u001b[0;32m~/code/github/Kaggle/openai_to_z/src/project_utils/satellite.py:31\u001b[0m, in \u001b[0;36mfetch_esri_from_row\u001b[0;34m(df, filename, width, height, save_path)\u001b[0m\n\u001b[1;32m     22\u001b[0m params \u001b[38;5;241m=\u001b[39m {\n\u001b[1;32m     23\u001b[0m     \u001b[38;5;124m\"\u001b[39m\u001b[38;5;124mbbox\u001b[39m\u001b[38;5;124m\"\u001b[39m: \u001b[38;5;124mf\u001b[39m\u001b[38;5;124m\"\u001b[39m\u001b[38;5;132;01m{\u001b[39;00mmin_lon\u001b[38;5;132;01m}\u001b[39;00m\u001b[38;5;124m,\u001b[39m\u001b[38;5;132;01m{\u001b[39;00mmin_lat\u001b[38;5;132;01m}\u001b[39;00m\u001b[38;5;124m,\u001b[39m\u001b[38;5;132;01m{\u001b[39;00mmax_lon\u001b[38;5;132;01m}\u001b[39;00m\u001b[38;5;124m,\u001b[39m\u001b[38;5;132;01m{\u001b[39;00mmax_lat\u001b[38;5;132;01m}\u001b[39;00m\u001b[38;5;124m\"\u001b[39m,\n\u001b[1;32m     24\u001b[0m     \u001b[38;5;124m\"\u001b[39m\u001b[38;5;124mbboxSR\u001b[39m\u001b[38;5;124m\"\u001b[39m: \u001b[38;5;241m4326\u001b[39m,\n\u001b[0;32m   (...)\u001b[0m\n\u001b[1;32m     28\u001b[0m     \u001b[38;5;124m\"\u001b[39m\u001b[38;5;124mf\u001b[39m\u001b[38;5;124m\"\u001b[39m: \u001b[38;5;124m\"\u001b[39m\u001b[38;5;124mimage\u001b[39m\u001b[38;5;124m\"\u001b[39m\n\u001b[1;32m     29\u001b[0m }\n\u001b[1;32m     30\u001b[0m response \u001b[38;5;241m=\u001b[39m requests\u001b[38;5;241m.\u001b[39mget(url, params\u001b[38;5;241m=\u001b[39mparams)\n\u001b[0;32m---> 31\u001b[0m \u001b[43mresponse\u001b[49m\u001b[38;5;241;43m.\u001b[39;49m\u001b[43mraise_for_status\u001b[49m\u001b[43m(\u001b[49m\u001b[43m)\u001b[49m\n\u001b[1;32m     32\u001b[0m img \u001b[38;5;241m=\u001b[39m Image\u001b[38;5;241m.\u001b[39mopen(BytesIO(response\u001b[38;5;241m.\u001b[39mcontent))\n\u001b[1;32m     33\u001b[0m \u001b[38;5;28;01mif\u001b[39;00m save_path:\n",
      "File \u001b[0;32m/opt/miniconda3/envs/openai_to_z/lib/python3.10/site-packages/requests/models.py:1024\u001b[0m, in \u001b[0;36mResponse.raise_for_status\u001b[0;34m(self)\u001b[0m\n\u001b[1;32m   1019\u001b[0m     http_error_msg \u001b[38;5;241m=\u001b[39m (\n\u001b[1;32m   1020\u001b[0m         \u001b[38;5;124mf\u001b[39m\u001b[38;5;124m\"\u001b[39m\u001b[38;5;132;01m{\u001b[39;00m\u001b[38;5;28mself\u001b[39m\u001b[38;5;241m.\u001b[39mstatus_code\u001b[38;5;132;01m}\u001b[39;00m\u001b[38;5;124m Server Error: \u001b[39m\u001b[38;5;132;01m{\u001b[39;00mreason\u001b[38;5;132;01m}\u001b[39;00m\u001b[38;5;124m for url: \u001b[39m\u001b[38;5;132;01m{\u001b[39;00m\u001b[38;5;28mself\u001b[39m\u001b[38;5;241m.\u001b[39murl\u001b[38;5;132;01m}\u001b[39;00m\u001b[38;5;124m\"\u001b[39m\n\u001b[1;32m   1021\u001b[0m     )\n\u001b[1;32m   1023\u001b[0m \u001b[38;5;28;01mif\u001b[39;00m http_error_msg:\n\u001b[0;32m-> 1024\u001b[0m     \u001b[38;5;28;01mraise\u001b[39;00m HTTPError(http_error_msg, response\u001b[38;5;241m=\u001b[39m\u001b[38;5;28mself\u001b[39m)\n",
      "\u001b[0;31mHTTPError\u001b[0m: 500 Server Error:  for url: https://services.arcgisonline.com/ArcGIS/rest/services/World_Imagery/MapServer/export?bbox=-47.69956998%2C-3.334699031%2C-47.69956935%2C-3.334698849&bboxSR=4326&imageSR=4326&size=512%2C512&format=jpg&f=image"
     ]
    }
   ],
   "source": [
    "img = proj_satellite.fetch_esri_from_row(df, filename)"
   ]
  },
  {
   "cell_type": "code",
   "execution_count": 89,
   "id": "d575e7a6",
   "metadata": {},
   "outputs": [
    {
     "name": "stdout",
     "output_type": "stream",
     "text": [
      "Area: 100000.000 km**2\n",
      "Side length: 316.228 km\n"
     ]
    }
   ],
   "source": [
    "def test_esri_with_area(area, verbose=False, show=False):# Center of London approx\n",
    "    centre_lat, centre_lon = 51.5, 0\n",
    "\n",
    "    # Square of 100 km²: side = sqrt(100) = 10 km\n",
    "    side_km = math.sqrt(area)\n",
    "    if verbose:\n",
    "        print(f\"Area: {area:.3f} km**2\")\n",
    "        print(f\"Side length: {side_km:.3f} km\")\n",
    "    delta_deg = side_km / 111  # ≈ 0.09 degrees\n",
    "\n",
    "    min_lat = centre_lat - delta_deg / 2\n",
    "    max_lat = centre_lat + delta_deg / 2\n",
    "    min_lon = centre_lon - delta_deg / 2\n",
    "    max_lon = centre_lon + delta_deg / 2\n",
    "\n",
    "    london_bbox = (min_lat, max_lat, min_lon, max_lon)\n",
    "    try:\n",
    "        img = proj_satellite.fetch_esri_from_coords(london_bbox)\n",
    "        if show:\n",
    "            img.show()  # or however you want to display it\n",
    "    except Exception as e:\n",
    "        print(f\"Error with area {area:.3f}; {e}\")\n",
    "\n",
    "test_esri_with_area(100000, verbose=True, show=True)"
   ]
  },
  {
   "cell_type": "code",
   "execution_count": 98,
   "id": "ab5cacab",
   "metadata": {},
   "outputs": [
    {
     "name": "stdout",
     "output_type": "stream",
     "text": [
      "Area: 0.010 km**2\n",
      "Side length: 0.100 km\n",
      "Error with area 0.010; 500 Server Error:  for url: https://services.arcgisonline.com/ArcGIS/rest/services/World_Imagery/MapServer/export?bbox=-0.00045045045045045046%2C51.49954954954955%2C0.00045045045045045046%2C51.50045045045045&bboxSR=4326&imageSR=4326&size=512%2C512&format=jpg&f=image\n",
      "Area: 0.020 km**2\n",
      "Side length: 0.141 km\n",
      "Area: 0.030 km**2\n",
      "Side length: 0.173 km\n",
      "Area: 0.040 km**2\n",
      "Side length: 0.200 km\n",
      "Area: 0.050 km**2\n",
      "Side length: 0.224 km\n",
      "Area: 0.060 km**2\n",
      "Side length: 0.245 km\n",
      "Area: 0.070 km**2\n",
      "Side length: 0.265 km\n",
      "Area: 0.080 km**2\n",
      "Side length: 0.283 km\n",
      "Area: 0.090 km**2\n",
      "Side length: 0.300 km\n"
     ]
    }
   ],
   "source": [
    "for area in np.arange(0.01, 0.1, 0.01):\n",
    "    try:\n",
    "        test_esri_with_area(area, verbose=True, show=True)\n",
    "    except Exception as e:\n",
    "        print(f\"Error with area {area:.3f}; {e}\")"
   ]
  },
  {
   "cell_type": "code",
   "execution_count": 106,
   "id": "ab12073a",
   "metadata": {},
   "outputs": [
    {
     "name": "stdout",
     "output_type": "stream",
     "text": [
      "Area: 0.000 km**2\n",
      "Side length: 0.014 km\n",
      "Error with area 0.000; 500 Server Error:  for url: https://services.arcgisonline.com/ArcGIS/rest/services/World_Imagery/MapServer/export?bbox=-6.306306306306306e-05%2C51.49993693693694%2C6.306306306306306e-05%2C51.50006306306306&bboxSR=4326&imageSR=4326&size=512%2C512&format=jpg&f=image\n"
     ]
    }
   ],
   "source": [
    "def test_esri_with_width(side_km, verbose=False, show=False):# Center of London approx\n",
    "    centre_lat, centre_lon = 51.5, 0\n",
    "\n",
    "    # Square of 100 km²: side = sqrt(100) = 10 km\n",
    "    area = side_km ** 2\n",
    "    if verbose:\n",
    "        print(f\"Area: {area:.3f} km**2\")\n",
    "        print(f\"Side length: {side_km:.3f} km\")\n",
    "    delta_deg = side_km / 111  # ≈ 0.09 degrees\n",
    "\n",
    "    min_lat = centre_lat - delta_deg / 2\n",
    "    max_lat = centre_lat + delta_deg / 2\n",
    "    min_lon = centre_lon - delta_deg / 2\n",
    "    max_lon = centre_lon + delta_deg / 2\n",
    "\n",
    "    london_bbox = (min_lat, max_lat, min_lon, max_lon)\n",
    "    try:\n",
    "        img = proj_satellite.fetch_esri_from_coords(london_bbox)\n",
    "        if show:\n",
    "            img.show()  # or however you want to display it\n",
    "    except Exception as e:\n",
    "        print(f\"Error with area {area:.3f}; {e}\")\n",
    "\n",
    "test_esri_with_width(0.014, verbose=True, show=True)"
   ]
  },
  {
   "cell_type": "code",
   "execution_count": 104,
   "id": "c3e07a49",
   "metadata": {},
   "outputs": [
    {
     "name": "stdout",
     "output_type": "stream",
     "text": [
      "Area: 0.000 km**2\n",
      "Side length: 0.010 km\n",
      "Error with area 0.000; 500 Server Error:  for url: https://services.arcgisonline.com/ArcGIS/rest/services/World_Imagery/MapServer/export?bbox=-4.5045045045045046e-05%2C51.49995495495496%2C4.5045045045045046e-05%2C51.50004504504504&bboxSR=4326&imageSR=4326&size=512%2C512&format=jpg&f=image\n",
      "Area: 0.000 km**2\n",
      "Side length: 0.020 km\n",
      "Error with area 0.000; 500 Server Error:  for url: https://services.arcgisonline.com/ArcGIS/rest/services/World_Imagery/MapServer/export?bbox=-9.009009009009009e-05%2C51.49990990990991%2C9.009009009009009e-05%2C51.50009009009009&bboxSR=4326&imageSR=4326&size=512%2C512&format=jpg&f=image\n",
      "Area: 0.001 km**2\n",
      "Side length: 0.030 km\n",
      "Error with area 0.001; 500 Server Error:  for url: https://services.arcgisonline.com/ArcGIS/rest/services/World_Imagery/MapServer/export?bbox=-0.00013513513513513514%2C51.49986486486487%2C0.00013513513513513514%2C51.50013513513513&bboxSR=4326&imageSR=4326&size=512%2C512&format=jpg&f=image\n",
      "Area: 0.002 km**2\n",
      "Side length: 0.040 km\n",
      "Error with area 0.002; 500 Server Error:  for url: https://services.arcgisonline.com/ArcGIS/rest/services/World_Imagery/MapServer/export?bbox=-0.00018018018018018018%2C51.49981981981982%2C0.00018018018018018018%2C51.50018018018018&bboxSR=4326&imageSR=4326&size=512%2C512&format=jpg&f=image\n",
      "Area: 0.003 km**2\n",
      "Side length: 0.050 km\n",
      "Error with area 0.003; 500 Server Error:  for url: https://services.arcgisonline.com/ArcGIS/rest/services/World_Imagery/MapServer/export?bbox=-0.00022522522522522523%2C51.49977477477478%2C0.00022522522522522523%2C51.50022522522522&bboxSR=4326&imageSR=4326&size=512%2C512&format=jpg&f=image\n",
      "Area: 0.004 km**2\n",
      "Side length: 0.060 km\n",
      "Error with area 0.004; 500 Server Error:  for url: https://services.arcgisonline.com/ArcGIS/rest/services/World_Imagery/MapServer/export?bbox=-0.0002702702702702703%2C51.49972972972973%2C0.0002702702702702703%2C51.50027027027027&bboxSR=4326&imageSR=4326&size=512%2C512&format=jpg&f=image\n",
      "Area: 0.005 km**2\n",
      "Side length: 0.070 km\n",
      "Error with area 0.005; 500 Server Error:  for url: https://services.arcgisonline.com/ArcGIS/rest/services/World_Imagery/MapServer/export?bbox=-0.00031531531531531535%2C51.49968468468469%2C0.00031531531531531535%2C51.50031531531531&bboxSR=4326&imageSR=4326&size=512%2C512&format=jpg&f=image\n",
      "Area: 0.006 km**2\n",
      "Side length: 0.080 km\n",
      "Error with area 0.006; 500 Server Error:  for url: https://services.arcgisonline.com/ArcGIS/rest/services/World_Imagery/MapServer/export?bbox=-0.00036036036036036037%2C51.49963963963964%2C0.00036036036036036037%2C51.50036036036036&bboxSR=4326&imageSR=4326&size=512%2C512&format=jpg&f=image\n",
      "Area: 0.008 km**2\n",
      "Side length: 0.090 km\n",
      "Error with area 0.008; 500 Server Error:  for url: https://services.arcgisonline.com/ArcGIS/rest/services/World_Imagery/MapServer/export?bbox=-0.0004054054054054054%2C51.4995945945946%2C0.0004054054054054054%2C51.5004054054054&bboxSR=4326&imageSR=4326&size=512%2C512&format=jpg&f=image\n",
      "Area: 0.010 km**2\n",
      "Side length: 0.100 km\n",
      "Error with area 0.010; 500 Server Error:  for url: https://services.arcgisonline.com/ArcGIS/rest/services/World_Imagery/MapServer/export?bbox=-0.00045045045045045046%2C51.49954954954955%2C0.00045045045045045046%2C51.50045045045045&bboxSR=4326&imageSR=4326&size=512%2C512&format=jpg&f=image\n",
      "Area: 0.012 km**2\n",
      "Side length: 0.110 km\n",
      "Error with area 0.012; 500 Server Error:  for url: https://services.arcgisonline.com/ArcGIS/rest/services/World_Imagery/MapServer/export?bbox=-0.0004954954954954955%2C51.49950450450451%2C0.0004954954954954955%2C51.50049549549549&bboxSR=4326&imageSR=4326&size=512%2C512&format=jpg&f=image\n",
      "Area: 0.014 km**2\n",
      "Side length: 0.120 km\n",
      "Area: 0.017 km**2\n",
      "Side length: 0.130 km\n",
      "Area: 0.020 km**2\n",
      "Side length: 0.140 km\n",
      "Area: 0.022 km**2\n",
      "Side length: 0.150 km\n",
      "Area: 0.026 km**2\n",
      "Side length: 0.160 km\n",
      "Area: 0.029 km**2\n",
      "Side length: 0.170 km\n",
      "Area: 0.032 km**2\n",
      "Side length: 0.180 km\n",
      "Area: 0.036 km**2\n",
      "Side length: 0.190 km\n",
      "Area: 0.040 km**2\n",
      "Side length: 0.200 km\n"
     ]
    }
   ],
   "source": [
    "for width in np.arange(0.01, 0.21, 0.01):\n",
    "    try:\n",
    "        test_esri_with_width(width, verbose=True, show=True)\n",
    "    except Exception as e:\n",
    "        print(f\"Error with area {width:.3f}; {e}\")"
   ]
  }
 ],
 "metadata": {
  "kernelspec": {
   "display_name": "Python (Conda, openai_to_z)",
   "language": "python",
   "name": "openai_to_z"
  },
  "language_info": {
   "codemirror_mode": {
    "name": "ipython",
    "version": 3
   },
   "file_extension": ".py",
   "mimetype": "text/x-python",
   "name": "python",
   "nbconvert_exporter": "python",
   "pygments_lexer": "ipython3",
   "version": "3.10.18"
  }
 },
 "nbformat": 4,
 "nbformat_minor": 5
}
